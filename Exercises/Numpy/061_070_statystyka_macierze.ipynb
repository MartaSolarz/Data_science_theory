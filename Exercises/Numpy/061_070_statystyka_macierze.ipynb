{
  "nbformat": 4,
  "nbformat_minor": 0,
  "metadata": {
    "colab": {
      "name": "Kopia notatnika 061-070_exercises.ipynb",
      "provenance": [],
      "collapsed_sections": [],
      "include_colab_link": true
    },
    "kernelspec": {
      "name": "python3",
      "display_name": "Python 3"
    }
  },
  "cells": [
    {
      "cell_type": "markdown",
      "metadata": {
        "id": "view-in-github",
        "colab_type": "text"
      },
      "source": [
        "<a href=\"https://colab.research.google.com/github/MartaSolarz/Data_science_theory/blob/main/Exercises/Numpy/061_070_statystyka_macierze.ipynb\" target=\"_parent\"><img src=\"https://colab.research.google.com/assets/colab-badge.svg\" alt=\"Open In Colab\"/></a>"
      ]
    },
    {
      "cell_type": "markdown",
      "metadata": {
        "id": "WLEgCW5F1hho"
      },
      "source": [
        "## Numpy\n",
        "\n",
        "### Spis treści:\n",
        "* [Import biblioteki](#0)\n",
        "* [Ćwiczenie 61](#1)\n",
        "* [Ćwiczenie 62](#2)\n",
        "* [Ćwiczenie 63](#3)\n",
        "* [Ćwiczenie 64](#4)\n",
        "* [Ćwiczenie 65](#5)\n",
        "* [Ćwiczenie 66](#6)\n",
        "* [Ćwiczenie 67](#7)\n",
        "* [Ćwiczenie 68](#8)\n",
        "* [Ćwiczenie 69](#9)\n",
        "* [Ćwiczenie 70](#10)"
      ]
    },
    {
      "cell_type": "markdown",
      "metadata": {
        "id": "zeLOLmTj1kBM"
      },
      "source": [
        "### <a name='0'></a>Import biblioteki"
      ]
    },
    {
      "cell_type": "code",
      "metadata": {
        "id": "HXMB7SMe1Wnz",
        "colab": {
          "base_uri": "https://localhost:8080/",
          "height": 36
        },
        "outputId": "ea80649d-2f8a-4101-ed8d-a29aed1599b9"
      },
      "source": [
        "import numpy as np\n",
        "\n",
        "np.set_printoptions(suppress=True, precision=4)\n",
        "np.random.seed(42)\n",
        "np.__version__"
      ],
      "execution_count": 1,
      "outputs": [
        {
          "output_type": "execute_result",
          "data": {
            "text/plain": [
              "'1.21.6'"
            ],
            "application/vnd.google.colaboratory.intrinsic+json": {
              "type": "string"
            }
          },
          "metadata": {},
          "execution_count": 1
        }
      ]
    },
    {
      "cell_type": "markdown",
      "metadata": {
        "id": "cyc70pMe1oCg"
      },
      "source": [
        "### <a name='1'></a> Ćwiczenie 61\n",
        "Podane są poniższe dwie tablice $A$ i $B$:\n",
        "\n",
        "```\n",
        "A = np.array([[3, 4, 9, 2],\n",
        "              [5, 3, 2, 5]])\n",
        "B = np.array([[4, 3, 2, 5],\n",
        "              [6, 3, 1, 6]])\n",
        "```\n",
        "\n",
        "Wyznacz tablicę składającą się ze średnich arytmetycznych tablic $A$ i $B$ odpowiadających im elementów.\n",
        "\n",
        "__Oczekiwany wynik:__\n",
        "\n",
        "\n",
        "```\n",
        "array([[3.5, 3.5, 5.5, 3.5],\n",
        "       [5.5, 3. , 1.5, 5.5]])\n",
        "```\n",
        "\n"
      ]
    },
    {
      "cell_type": "code",
      "metadata": {
        "id": "9zMjVYfP-tI6",
        "colab": {
          "base_uri": "https://localhost:8080/"
        },
        "outputId": "35e34fb0-ec9a-4831-831b-e718f783f7ad"
      },
      "source": [
        "# tutaj wpisz rozwiązanie\n",
        "\n",
        "A = np.array([[3, 4, 9, 2],\n",
        "              [5, 3, 2, 5]])\n",
        "B = np.array([[4, 3, 2, 5],\n",
        "              [6, 3, 1, 6]])\n",
        "\n",
        "np.mean((A,B),axis=0)"
      ],
      "execution_count": 5,
      "outputs": [
        {
          "output_type": "execute_result",
          "data": {
            "text/plain": [
              "array([[3.5, 3.5, 5.5, 3.5],\n",
              "       [5.5, 3. , 1.5, 5.5]])"
            ]
          },
          "metadata": {},
          "execution_count": 5
        }
      ]
    },
    {
      "cell_type": "markdown",
      "metadata": {
        "id": "J9pY1rtr1sC0"
      },
      "source": [
        "### <a name='2'></a> Ćwiczenie 62\n",
        "Podane są poniższe dwie tablice $A$ i $B$:\n",
        "\n",
        "```\n",
        "A = np.array([[3, 4, 9, 2],\n",
        "              [5, 3, 2, 5]])\n",
        "B = np.array([[4, 3, 2, 5],\n",
        "              [6, 3, 1, 6]])\n",
        "```\n",
        "Pomnóż tablice przez siebie - element po elemencie (element-wise).\n"
      ]
    },
    {
      "cell_type": "code",
      "metadata": {
        "id": "9b_Bhik1Jqo7",
        "colab": {
          "base_uri": "https://localhost:8080/"
        },
        "outputId": "1b19ac71-02d6-4c16-c95b-5e8cea888445"
      },
      "source": [
        "# tutaj wpisz rozwiązanie\n",
        "\n",
        "A = np.array([[3, 4, 9, 2],\n",
        "              [5, 3, 2, 5]])\n",
        "B = np.array([[4, 3, 2, 5],\n",
        "              [6, 3, 1, 6]])\n",
        "\n",
        "np.multiply(A,B)"
      ],
      "execution_count": 9,
      "outputs": [
        {
          "output_type": "execute_result",
          "data": {
            "text/plain": [
              "array([[12, 12, 18, 10],\n",
              "       [30,  9,  2, 30]])"
            ]
          },
          "metadata": {},
          "execution_count": 9
        }
      ]
    },
    {
      "cell_type": "markdown",
      "metadata": {
        "id": "XQLYT2m11wVG"
      },
      "source": [
        "### <a name='3'></a> Ćwiczenie 63\n",
        "Podana jest poniższa tablica $A$:\n",
        "\n",
        "```\n",
        "A = np.array([[3, 4, 9, 2],\n",
        "              [5, 3, 2, 5]])\n",
        "```\n",
        "Wyznacz pierwiastek z każdego elementu tablicy $A$.\n",
        "\n",
        "__Wskazówka:__ Użyj funkcji _np.sqrt()_.\n",
        "\n"
      ]
    },
    {
      "cell_type": "code",
      "metadata": {
        "id": "vcAGgYGhKOTd",
        "colab": {
          "base_uri": "https://localhost:8080/"
        },
        "outputId": "e0516d6f-51a3-4fe5-d68f-5b97ccca4240"
      },
      "source": [
        "# tutaj wpisz rozwiązanie\n",
        "\n",
        "A = np.array([[3, 4, 9, 2],\n",
        "              [5, 3, 2, 5]])\n",
        "\n",
        "np.sqrt(A)"
      ],
      "execution_count": 10,
      "outputs": [
        {
          "output_type": "execute_result",
          "data": {
            "text/plain": [
              "array([[1.7321, 2.    , 3.    , 1.4142],\n",
              "       [2.2361, 1.7321, 1.4142, 2.2361]])"
            ]
          },
          "metadata": {},
          "execution_count": 10
        }
      ]
    },
    {
      "cell_type": "markdown",
      "metadata": {
        "id": "4xTKSUzg10MK"
      },
      "source": [
        "### <a name='4'></a> Ćwiczenie 64\n",
        "Podane są poniższe tablice $A$ oraz $B$:\n",
        "\n",
        "\n",
        "```\n",
        "A = np.linspace(0, np.pi / 2, 20)\n",
        "B = np.full(shape=(20,), fill_value=1, dtype='float')\n",
        "```\n",
        "Sprawdź działanie jedynki trygonometrycznej na tablicy $A$ i następnie porównaj wynik z tablicą $B$. Użyj funkcji _np.allclose()_.\n",
        "\n",
        "__Jedynka trygonometryczna:__ Dla dowolnej wartości kąta $\\alpha \\in R$ zachodzi:\n",
        "$$sin^2\\alpha + cos^2\\alpha = 1$$\n",
        "\n"
      ]
    },
    {
      "cell_type": "code",
      "metadata": {
        "id": "jI143TodMDId",
        "colab": {
          "base_uri": "https://localhost:8080/"
        },
        "outputId": "1dd18af4-72cc-46c6-98f8-54a27db093d5"
      },
      "source": [
        "# tutaj wpisz rozwiązanie\n",
        "\n",
        "A = np.linspace(0, np.pi / 2, 20)\n",
        "B = np.full(shape=(20,), fill_value=1, dtype='float')\n",
        "\n",
        "np.allclose(np.sin(A)**2 + np.cos(A)**2, B)"
      ],
      "execution_count": 33,
      "outputs": [
        {
          "output_type": "execute_result",
          "data": {
            "text/plain": [
              "True"
            ]
          },
          "metadata": {},
          "execution_count": 33
        }
      ]
    },
    {
      "cell_type": "markdown",
      "metadata": {
        "id": "o3HKIKlP15Ro"
      },
      "source": [
        "### Przypomnienie\n",
        "### Mnożenie macierzy:\n",
        "$${A} ={\\begin{bmatrix}a_{11}&a_{12}&\\cdots &a_{1n}\\\\a_{21}&a_{22}&\\cdots &a_{2n}\\\\\\vdots &\\vdots &\\ddots &\\vdots \\\\a_{m1}&a_{m2}&\\cdots &a_{mn}\\\\\\end{bmatrix}}$$\n",
        "A - macierz wymairu $m\\ x\\ n$\n",
        "\n",
        "$$ {B} ={\\begin{bmatrix}b_{11}&b_{12}&\\cdots &b_{1p}\\\\b_{21}&b_{22}&\\cdots &b_{2p}\\\\\\vdots &\\vdots &\\ddots &\\vdots \\\\b_{n1}&b_{n2}&\\cdots &b_{np}\\\\\\end{bmatrix}}$$\n",
        "B - macierz wymairu $n\\ x\\ p$\n",
        "\n",
        "$$C = AB$$ \n",
        "C - macierz wymiaru $m\\ x\\ p$  \n",
        "Aby móc pomnożyć dwie macierze liczba kolumn w lewej macierzy musi zgadzać się z liczbą wierszy prawej macierzy.\n",
        "\n",
        "Mnożenie macierzy nie jest przemienne! Tzn. $$AB \\neq BA$$\n",
        "\n",
        "### Przykład 1\n",
        "$ X = \\begin{bmatrix}5&3\\\\3&9\\end{bmatrix}$, $ Y= \\begin{bmatrix}1\\\\-1\\end{bmatrix} $  \n",
        "$X$ macierz 2x2  \n",
        "$Y$ macierz 2x1\n",
        "$$Z = X \\cdot Y = \\begin{bmatrix}5&3\\\\3&9\\end{bmatrix} \\cdot \\begin{bmatrix}1\\\\-1\\end{bmatrix} = \\begin{bmatrix}2\\\\-6\\end{bmatrix}$$\n",
        "$Z$ macierz 2x1\n",
        "\n",
        "### Przykład 2\n",
        "$X = \\begin{bmatrix}2&-1&3\\\\3&1&0\\end{bmatrix}$, $Y = \\begin{bmatrix}2&1&-1\\\\0&-1&2\\\\3&2&0\\end{bmatrix}$\n",
        "\n",
        "$X$ macierz 2x3  \n",
        "$Y$ macierz 3x3\n",
        "$$Z = X \\cdot Y =  \\begin{bmatrix}2&-1&3\\\\3&1&0\\end{bmatrix} \\cdot \\begin{bmatrix}2&1&-1\\\\0&-1&2\\\\3&2&0\\end{bmatrix} = \\begin{bmatrix}13&9&-4\\\\6&2&-1\\end{bmatrix}$$\n",
        "$Z$ macierz 2x3\n",
        "\n",
        "\n"
      ]
    },
    {
      "cell_type": "markdown",
      "metadata": {
        "id": "cDCQVpQUr6qb"
      },
      "source": [
        "### <a name='5'></a> Ćwiczenie 65\n",
        "\n",
        "Podane są dwie dwuwymiarowe tablice numpy $A$ oraz $B$.  \n",
        "$A$ - macierz wymiaru $(3, 2)$  \n",
        "$B$ - macierz wymiaru $(2, 3)$\n",
        "\n",
        "```\n",
        "A = np.array([[2, 3],\n",
        "              [-4, 2],\n",
        "              [5, 0]])\n",
        "B = np.array([[4, 3, 2],\n",
        "              [-1, 0, 2]])\n",
        "```\n",
        "Dokonaj mnożenia macierzowego tablic $A$ i $B$.\n",
        "\n",
        "__Wskazówka:__ Użyj funkcji _np.dot()_.\n"
      ]
    },
    {
      "cell_type": "code",
      "metadata": {
        "id": "wXd9qiJLQyfs",
        "colab": {
          "base_uri": "https://localhost:8080/"
        },
        "outputId": "967740c9-4355-4879-f1ce-efc967578349"
      },
      "source": [
        "# tutaj wpisz rozwiązanie\n",
        "\n",
        "A = np.array([[2, 3],\n",
        "              [-4, 2],\n",
        "              [5, 0]])\n",
        "B = np.array([[4, 3, 2],\n",
        "              [-1, 0, 2]])\n",
        "\n",
        "np.dot(A,B)"
      ],
      "execution_count": 21,
      "outputs": [
        {
          "output_type": "execute_result",
          "data": {
            "text/plain": [
              "array([[  5,   6,  10],\n",
              "       [-18, -12,  -4],\n",
              "       [ 20,  15,  10]])"
            ]
          },
          "metadata": {},
          "execution_count": 21
        }
      ]
    },
    {
      "cell_type": "markdown",
      "metadata": {
        "id": "Yemog0IvsNsH"
      },
      "source": [
        "### Przypomnienie\n",
        "\n",
        "### Wyznacznik macierzy:\n",
        "\n",
        "$${\\displaystyle A={\\begin{bmatrix}a_{11}&a_{12}&\\dots &a_{1n}\\\\a_{21}&a_{22}&\\dots &a_{2n}\\\\\\vdots &\\vdots &\\ddots &\\vdots \\\\a_{n1}&a_{n2}&\\dots &a_{nn}\\end{bmatrix}}}$$\n",
        "$A$ - macierz wymiaru nxn\n",
        "\n",
        "#### Oznaczenia:\n",
        "\n",
        "${\\displaystyle |A|=\\left|{\\begin{array}{c}a_{11}&a_{12}&\\dots &a_{1n}\\\\a_{21}&a_{22}&\\dots &a_{2n}\\\\\\vdots &\\vdots &\\ddots &\\vdots \\\\a_{n1}&a_{n2}&\\dots &a_{nn}\\end{array}}\\right|} $  lub  $ {\\displaystyle \\det A=\\det {\\begin{bmatrix}a_{11}&a_{12}&\\dots &a_{1n}\\\\a_{21}&a_{22}&\\dots &a_{2n}\\\\\\vdots &\\vdots &\\ddots &\\vdots \\\\a_{n1}&a_{n2}&\\dots &a_{nn}\\end{bmatrix}}}$\n",
        "\n",
        "#### Przykład:\n",
        "${\\displaystyle \\det A={\\begin{vmatrix}a_{11}&a_{12}\\\\a_{21}&a_{22}\\end{vmatrix}}=a_{11}a_{22}-a_{12}a_{21}}$\n",
        "\n",
        "${\\displaystyle \\det A={\\begin{vmatrix}a_{11}&a_{12}&a_{13}\\\\a_{21}&a_{22}&a_{23}\\\\a_{31}&a_{32}&a_{33}\\end{vmatrix}}=a_{11}a_{22}a_{33}+a_{21}a_{32}a_{13}+a_{31}a_{12}a_{23}-a_{21}a_{12}a_{33}-a_{11}a_{32}a_{23}-a_{31}a_{22}a_{13}}$\n",
        "\n",
        "${\\displaystyle \\det A={\\begin{vmatrix}2&4\\\\-1&3\\end{vmatrix}}=2\\cdot3-4\\cdot(-1)} = 6 + 4 = 10 $\n",
        "\n",
        "\n",
        "\n"
      ]
    },
    {
      "cell_type": "markdown",
      "metadata": {
        "id": "PunXd_Ey16so"
      },
      "source": [
        "### <a name='6'></a> Ćwiczenie 66\n",
        "Podana jest poniższa tablica (macierz kwadratowa) $A$:\n",
        "\n",
        "```\n",
        "A = np.array([[-2, 0, 4],\n",
        "              [5, 2, -1],\n",
        "              [-4, 2, 4]])\n",
        "```\n",
        "Wyznacz wyznacznik macierzy $A$.\n",
        "\n",
        "__Wskazówka:__ Użyj funkcji _np.linalg.det()_.\n"
      ]
    },
    {
      "cell_type": "code",
      "metadata": {
        "id": "90J6eB4RSmAG",
        "colab": {
          "base_uri": "https://localhost:8080/"
        },
        "outputId": "c63904b5-210d-427a-e906-8ad8b22750f5"
      },
      "source": [
        "# tutaj wpisz rozwiązanie\n",
        "\n",
        "A = np.array([[-2, 0, 4],\n",
        "              [5, 2, -1],\n",
        "              [-4, 2, 4]])\n",
        "\n",
        "np.linalg.det(A)"
      ],
      "execution_count": 22,
      "outputs": [
        {
          "output_type": "execute_result",
          "data": {
            "text/plain": [
              "51.999999999999986"
            ]
          },
          "metadata": {},
          "execution_count": 22
        }
      ]
    },
    {
      "cell_type": "markdown",
      "metadata": {
        "id": "hOhqDRz618Tx"
      },
      "source": [
        "### <a name='7'></a> Ćwiczenie 67\n",
        "Podana jest poniższa tablica (macierz kwadratowa) $A$:\n",
        "\n",
        "```\n",
        "A = np.array([[5, 8, 16],\n",
        "              [4, 1, 8],\n",
        "              [-4, 4, -11]])\n",
        "```\n",
        "Wyzancz wartości własne i odpowiadające im wektory własne macierzy $A$.\n",
        "\n",
        "__Wskazówka:__ Użyj funkcji _np.linalg.eig()_.\n"
      ]
    },
    {
      "cell_type": "code",
      "metadata": {
        "id": "DYG72PcWTvPT",
        "colab": {
          "base_uri": "https://localhost:8080/"
        },
        "outputId": "dd352bf7-8698-4f22-9a98-d42d92945959"
      },
      "source": [
        "# tutaj wpisz rozwiązanie\n",
        "\n",
        "A = np.array([[5, 8, 16],\n",
        "              [4, 1, 8],\n",
        "              [-4, 4, -11]])\n",
        "\n",
        "w,v = np.linalg.eig(A)\n",
        "\n",
        "print('E-value:', w)\n",
        "print('E-vector', v)"
      ],
      "execution_count": 24,
      "outputs": [
        {
          "output_type": "stream",
          "name": "stdout",
          "text": [
            "E-value: [-9.2462 -3.      7.2462]\n",
            "E-vector [[-0.6262 -0.8944  0.8902]\n",
            " [-0.3131  0.      0.4451]\n",
            " [ 0.7141  0.4472 -0.0976]]\n"
          ]
        }
      ]
    },
    {
      "cell_type": "markdown",
      "metadata": {
        "id": "bj6TWh-9s7fL"
      },
      "source": [
        "### Przypomnienie\n",
        "### Macierz odwrotna:\n",
        "\n",
        "$A$ - macierz kwadratowa stopnia $n$. Macierz $A$ posiada macierz odwrotną, gdy istnieje macierz $B$, taka, że\n",
        "$$AB = BA = I$$\n",
        "\n",
        "$A = \\begin{bmatrix}2&4\\\\-1&3\\end{bmatrix}$"
      ]
    },
    {
      "cell_type": "markdown",
      "metadata": {
        "id": "TXUd_4631-gw"
      },
      "source": [
        "### <a name='8'></a> Ćwiczenie 68\n",
        "Podana jest poniższa tablica (macierz kwadratowa) $A$:\n",
        "\n",
        "```\n",
        "A = np.array([[5, 8, 16],\n",
        "              [4, 1, 8],\n",
        "              [-4, 4, -11]])\n",
        "```\n",
        "Wyznacz macierz odwrotną do macierzy $A$.\n",
        "\n",
        "__Wskazówka:__ Użyj funkcji _np.linalg.inv()_.\n"
      ]
    },
    {
      "cell_type": "code",
      "metadata": {
        "id": "l0duTp0Db7EM",
        "colab": {
          "base_uri": "https://localhost:8080/"
        },
        "outputId": "19234e9c-07fc-4150-8682-3c231eb407e8"
      },
      "source": [
        "# tutaj wpisz rozwiązanie\n",
        "\n",
        "A = np.array([[5, 8, 16],\n",
        "              [4, 1, 8],\n",
        "              [-4, 4, -11]])\n",
        "\n",
        "np.linalg.inv(A)"
      ],
      "execution_count": 25,
      "outputs": [
        {
          "output_type": "execute_result",
          "data": {
            "text/plain": [
              "array([[-0.2139,  0.7562,  0.2388],\n",
              "       [ 0.0597,  0.0448,  0.1194],\n",
              "       [ 0.0995, -0.2587, -0.1343]])"
            ]
          },
          "metadata": {},
          "execution_count": 25
        }
      ]
    },
    {
      "cell_type": "markdown",
      "metadata": {
        "id": "ht_WwJrqsczo"
      },
      "source": [
        "### Przypomnienie\n",
        "\n",
        "### Ślad macierzy:\n",
        "\n",
        "$${\\displaystyle A={\\begin{bmatrix}a_{11}&a_{12}&\\dots &a_{1n}\\\\a_{21}&a_{22}&\\dots &a_{2n}\\\\\\vdots &\\vdots &\\ddots &\\vdots \\\\a_{n1}&a_{n2}&\\dots &a_{nn}\\end{bmatrix}}}$$\n",
        "$A$ - macierz wymiaru nxn\n",
        "\n",
        "${\\displaystyle \\operatorname {tr} (A)=\\sum _{i=1}^{n}a_{ii}=a_{11}+a_{22}+\\dots +a_{nn}}$\n",
        "\n",
        "#### Przykład:\n",
        "$A = \\begin{bmatrix}2&4\\\\-1&3\\end{bmatrix}$\n",
        "\n",
        "${\\displaystyle \\operatorname {tr} (A)=\\sum _{i=1}^{2}a_{ii}=a_{11}+a_{22} = 2 + 3 = 5}$"
      ]
    },
    {
      "cell_type": "markdown",
      "metadata": {
        "id": "tgI6xEn-2AQo"
      },
      "source": [
        "### <a name='9'></a> Ćwiczenie 69\n",
        "Podana jest poniższa tablica (macierz kwadratowa) $A$:\n",
        "\n",
        "```\n",
        "A = np.array([[5, 8, 16],\n",
        "              [4, 1, 8],\n",
        "              [-4, 4, -11]])\n",
        "```\n",
        "Wyznacz ślad macierzy kwadratowej $A$ (suma elementów na głównej przekątnej).\n",
        "\n",
        "__Wskazówka:__ Użyj funkcji _np.trace()_.\n"
      ]
    },
    {
      "cell_type": "code",
      "metadata": {
        "id": "XiuQkuNTcYkC",
        "colab": {
          "base_uri": "https://localhost:8080/"
        },
        "outputId": "2cb9a422-15ff-4336-b8d1-c26173029a9d"
      },
      "source": [
        "# tutaj wpisz rozwiązanie\n",
        "\n",
        "A = np.array([[5, 8, 16],\n",
        "              [4, 1, 8],\n",
        "              [-4, 4, -11]])\n",
        "\n",
        "np.trace(A)"
      ],
      "execution_count": 26,
      "outputs": [
        {
          "output_type": "execute_result",
          "data": {
            "text/plain": [
              "-5"
            ]
          },
          "metadata": {},
          "execution_count": 26
        }
      ]
    },
    {
      "cell_type": "markdown",
      "metadata": {
        "id": "ZsBk6UK-uPpQ"
      },
      "source": [
        "### Przypomnienie\n",
        "### Macierz transponowana:\n",
        "\n",
        "Zamiana wierszy na kolumny i kolumny na wiersze.\n",
        "\n",
        "#### Przykład 1:\n",
        "\n",
        "$A = \\begin{bmatrix}2&4\\\\-1&3\\end{bmatrix}$,\n",
        "$A^{T} = \\begin{bmatrix}2&-1\\\\4&3\\end{bmatrix}$\n",
        "\n",
        "#### Przykład 2:\n",
        "$A = \\begin{bmatrix}2&1&-1\\\\0&-1&2\\end{bmatrix}$,\n",
        "$A^{T} = \\begin{bmatrix}2&0\\\\1&-1\\\\-1&2\\end{bmatrix}$\n"
      ]
    },
    {
      "cell_type": "markdown",
      "metadata": {
        "id": "7tGnMHu7uXOe"
      },
      "source": [
        "### Ćwiczenie 69 c.d.\n",
        "Dokonaj transpozycji macierzy $A$."
      ]
    },
    {
      "cell_type": "code",
      "metadata": {
        "id": "SA2K4h0bufDc",
        "colab": {
          "base_uri": "https://localhost:8080/"
        },
        "outputId": "5a4f1436-98bb-43cf-8166-41d2f11569a3"
      },
      "source": [
        "# tutaj wpisz rozwiązanie\n",
        "\n",
        "A.T"
      ],
      "execution_count": 27,
      "outputs": [
        {
          "output_type": "execute_result",
          "data": {
            "text/plain": [
              "array([[  5,   4,  -4],\n",
              "       [  8,   1,   4],\n",
              "       [ 16,   8, -11]])"
            ]
          },
          "metadata": {},
          "execution_count": 27
        }
      ]
    },
    {
      "cell_type": "markdown",
      "metadata": {
        "id": "wxhpf-uq2B1I"
      },
      "source": [
        "### <a name='10'></a> Ćwiczenie 70\n",
        "Podane są dwie dwuwymiarowe tablice numpy $A$ oraz $B$:   \n",
        "$A$ - macierz wymiaru $(4, 2)$  \n",
        "$B$ - macierz wymiaru $(1, 8)$\n",
        "\n",
        "```\n",
        "A = np.array([[2, 0],\n",
        "              [4, 2],\n",
        "              [5, 3],\n",
        "              [4, 2]])\n",
        "B = np.array([[4, 0, 2, 1, 1, 0, 2, 9]])\n",
        "```\n",
        "Przekształć tablicę $B$ tak, aby można było dokonać mnożenia macierzowego $A \\cdot B$. Wykonaj to mnożenie.\n",
        "\n",
        "__Oczekiwany wynik:__\n",
        "\n",
        "\n",
        "```\n",
        "array([[ 8,  0,  4,  2],\n",
        "       [18,  0, 12, 22],\n",
        "       [23,  0, 16, 32],\n",
        "       [18,  0, 12, 22]])\n",
        "```\n",
        "\n",
        "\n"
      ]
    },
    {
      "cell_type": "code",
      "metadata": {
        "id": "bALDEEmGdAbD",
        "colab": {
          "base_uri": "https://localhost:8080/"
        },
        "outputId": "2068e051-4a56-4687-905b-bd83c758b45a"
      },
      "source": [
        "# tutaj wpisz rozwiązanie\n",
        "\n",
        "A = np.array([[2, 0],\n",
        "              [4, 2],\n",
        "              [5, 3],\n",
        "              [4, 2]])\n",
        "B = np.array([[4, 0, 2, 1, 1, 0, 2, 9]]).reshape(2,-1)\n",
        "\n",
        "np.dot(A,B)"
      ],
      "execution_count": 32,
      "outputs": [
        {
          "output_type": "execute_result",
          "data": {
            "text/plain": [
              "array([[ 8,  0,  4,  2],\n",
              "       [18,  0, 12, 22],\n",
              "       [23,  0, 16, 32],\n",
              "       [18,  0, 12, 22]])"
            ]
          },
          "metadata": {},
          "execution_count": 32
        }
      ]
    }
  ]
}