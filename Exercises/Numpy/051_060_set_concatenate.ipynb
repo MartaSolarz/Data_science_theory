{
  "nbformat": 4,
  "nbformat_minor": 0,
  "metadata": {
    "colab": {
      "name": "Kopia notatnika 051-060_exercises.ipynb",
      "provenance": [],
      "collapsed_sections": [],
      "include_colab_link": true
    },
    "kernelspec": {
      "name": "python3",
      "display_name": "Python 3"
    }
  },
  "cells": [
    {
      "cell_type": "markdown",
      "metadata": {
        "id": "view-in-github",
        "colab_type": "text"
      },
      "source": [
        "<a href=\"https://colab.research.google.com/github/MartaSolarz/Data_science_theory/blob/main/Exercises/Numpy/051_060_set_concatenate.ipynb\" target=\"_parent\"><img src=\"https://colab.research.google.com/assets/colab-badge.svg\" alt=\"Open In Colab\"/></a>"
      ]
    },
    {
      "cell_type": "markdown",
      "metadata": {
        "id": "WLEgCW5F1hho"
      },
      "source": [
        "## Numpy\n",
        "\n",
        "### Spis treści:\n",
        "* [Import biblioteki](#0)\n",
        "* [Ćwiczenie 51](#1)\n",
        "* [Ćwiczenie 52](#2)\n",
        "* [Ćwiczenie 53](#3)\n",
        "* [Ćwiczenie 54](#4)\n",
        "* [Ćwiczenie 55](#5)\n",
        "* [Ćwiczenie 56](#6)\n",
        "* [Ćwiczenie 57](#7)\n",
        "* [Ćwiczenie 58](#8)\n",
        "* [Ćwiczenie 59](#9)\n",
        "* [Ćwiczenie 60](#10)"
      ]
    },
    {
      "cell_type": "markdown",
      "metadata": {
        "id": "zeLOLmTj1kBM"
      },
      "source": [
        "### <a name='0'></a>Import biblioteki"
      ]
    },
    {
      "cell_type": "code",
      "metadata": {
        "id": "HXMB7SMe1Wnz",
        "colab": {
          "base_uri": "https://localhost:8080/",
          "height": 36
        },
        "outputId": "79c97c7e-ab27-475f-92a8-b63ae0f88914"
      },
      "source": [
        "import numpy as np\n",
        "\n",
        "np.random.seed(42)\n",
        "np.__version__"
      ],
      "execution_count": 1,
      "outputs": [
        {
          "output_type": "execute_result",
          "data": {
            "text/plain": [
              "'1.21.6'"
            ],
            "application/vnd.google.colaboratory.intrinsic+json": {
              "type": "string"
            }
          },
          "metadata": {},
          "execution_count": 1
        }
      ]
    },
    {
      "cell_type": "markdown",
      "metadata": {
        "id": "cyc70pMe1oCg"
      },
      "source": [
        "### <a name='1'></a> Ćwiczenie 51\n",
        "Podane są poniżej dwie tablice $A$ i $B$:\n",
        "\n",
        "\n",
        "```\n",
        "A = np.array([[3, 4, 5],\n",
        "              [8, 3, 1]])\n",
        "B = np.array([[0, 5, 2],\n",
        "              [4, 2, 1]])\n",
        "```\n",
        "* Połącz te tablice w następujący sposób:\n",
        "\n",
        "\n",
        "```\n",
        "array([[3, 4, 5],\n",
        "       [8, 3, 1],\n",
        "       [0, 5, 2],\n",
        "       [4, 2, 1]])\n",
        "```\n",
        "__Wskazówka:__ Wykorzystaj funkcję _np.concatenate()_.\n",
        "\n",
        "\n",
        "\n"
      ]
    },
    {
      "cell_type": "code",
      "metadata": {
        "id": "G06kZluT8eIh",
        "colab": {
          "base_uri": "https://localhost:8080/"
        },
        "outputId": "2ce57f5c-e13f-4174-c30b-0512650ed21c"
      },
      "source": [
        "# tutaj wpisz rozwiązanie\n",
        "\n",
        "A = np.array([[3, 4, 5],\n",
        "              [8, 3, 1]])\n",
        "B = np.array([[0, 5, 2],\n",
        "              [4, 2, 1]])\n",
        "\n",
        "np.concatenate((A,B))"
      ],
      "execution_count": 3,
      "outputs": [
        {
          "output_type": "execute_result",
          "data": {
            "text/plain": [
              "array([[3, 4, 5],\n",
              "       [8, 3, 1],\n",
              "       [0, 5, 2],\n",
              "       [4, 2, 1]])"
            ]
          },
          "metadata": {},
          "execution_count": 3
        }
      ]
    },
    {
      "cell_type": "markdown",
      "metadata": {
        "id": "ODw_gitA98Ul"
      },
      "source": [
        "* Połącz te tablice w następujący sposób:\n",
        "\n",
        "\n",
        "```\n",
        "array([[3, 4, 5, 0, 5, 2],\n",
        "       [8, 3, 1, 4, 2, 1]])\n",
        "```\n",
        "__Wskazówka:__ Wykorzystaj funkcję _np.concatenate()_."
      ]
    },
    {
      "cell_type": "code",
      "metadata": {
        "id": "1pmGjLj88tcf",
        "colab": {
          "base_uri": "https://localhost:8080/"
        },
        "outputId": "29ee5670-97f8-4e0d-ac6b-5e4cdde42199"
      },
      "source": [
        "# tutaj wpisz rozwiązanie\n",
        "\n",
        "np.concatenate((A,B),axis=1)"
      ],
      "execution_count": 4,
      "outputs": [
        {
          "output_type": "execute_result",
          "data": {
            "text/plain": [
              "array([[3, 4, 5, 0, 5, 2],\n",
              "       [8, 3, 1, 4, 2, 1]])"
            ]
          },
          "metadata": {},
          "execution_count": 4
        }
      ]
    },
    {
      "cell_type": "markdown",
      "metadata": {
        "id": "J9pY1rtr1sC0"
      },
      "source": [
        "### <a name='2'></a> Ćwiczenie 52\n",
        "Podana jest tablica zawierająca dane _data_ oraz tablica zawierająca docelową klasę dla danego wiersza _target_:\n",
        "\n",
        "```\n",
        "data = np.array([[4.3, 4.2],\n",
        "                 [3.1, 3.6]])\n",
        "target = np.array([[0],\n",
        "                   [1]])\n",
        "```\n",
        "\n"
      ]
    },
    {
      "cell_type": "markdown",
      "metadata": {
        "id": "8cAKF7ok-RjX"
      },
      "source": [
        "Połącz te tablice w jedną tak jak pokazano poniżej:\n",
        "\n",
        "\n",
        "```\n",
        "array([[4.3, 4.2, 0. ],\n",
        "       [3.1, 3.6, 1. ]])\n",
        "```\n",
        "\n"
      ]
    },
    {
      "cell_type": "code",
      "metadata": {
        "id": "4lc68Wfr8z3u",
        "colab": {
          "base_uri": "https://localhost:8080/"
        },
        "outputId": "4ac2179d-ac4c-48e6-845f-717dc70a90e9"
      },
      "source": [
        "# tutaj wpisz rozwiązanie\n",
        "\n",
        "data = np.array([[4.3, 4.2],\n",
        "                 [3.1, 3.6]])\n",
        "target = np.array([[0],\n",
        "                   [1]])\n",
        "\n",
        "np.concatenate((data, target), axis=1)"
      ],
      "execution_count": 6,
      "outputs": [
        {
          "output_type": "execute_result",
          "data": {
            "text/plain": [
              "array([[4.3, 4.2, 0. ],\n",
              "       [3.1, 3.6, 1. ]])"
            ]
          },
          "metadata": {},
          "execution_count": 6
        }
      ]
    },
    {
      "cell_type": "markdown",
      "metadata": {
        "id": "XQLYT2m11wVG"
      },
      "source": [
        "### <a name='3'></a> Ćwiczenie 53\n",
        "Podane są trzy poniższe jednowymiarowe tablice:  \n",
        "\n",
        "\n",
        "```\n",
        "feature1 = np.array([1.6, 0.9, 2.2])\n",
        "feature2 = np.array([0.4, 1.3, 3.2])\n",
        "feature3 = np.array([1.4, 0.3, 1.2])\n",
        "```\n",
        "Przekształć każdą z tych tablic w kolumnę i sklej w jedną dużą tablicę.\n",
        "\n",
        "__Oczekiwany wynik:__\n",
        "\n",
        "\n",
        "```\n",
        "array([[1.6, 0.4, 1.4],\n",
        "       [0.9, 1.3, 0.3],\n",
        "       [2.2, 3.2, 1.2]])\n",
        "```\n",
        "\n",
        "__Wskazówka:__ Wykorzystaj funkcję _np.column_stack()_.\n",
        "\n"
      ]
    },
    {
      "cell_type": "code",
      "metadata": {
        "id": "xfPf_vq7-jBP",
        "colab": {
          "base_uri": "https://localhost:8080/"
        },
        "outputId": "d9eb7043-b866-46d8-c570-dc8f0cdfe4dd"
      },
      "source": [
        "# tutaj wpisz rozwiązanie\n",
        "\n",
        "feature1 = np.array([1.6, 0.9, 2.2])\n",
        "feature2 = np.array([0.4, 1.3, 3.2])\n",
        "feature3 = np.array([1.4, 0.3, 1.2])\n",
        "\n",
        "np.column_stack((feature1, feature2, feature3))"
      ],
      "execution_count": 10,
      "outputs": [
        {
          "output_type": "execute_result",
          "data": {
            "text/plain": [
              "array([[1.6, 0.4, 1.4],\n",
              "       [0.9, 1.3, 0.3],\n",
              "       [2.2, 3.2, 1.2]])"
            ]
          },
          "metadata": {},
          "execution_count": 10
        }
      ]
    },
    {
      "cell_type": "markdown",
      "metadata": {
        "id": "4xTKSUzg10MK"
      },
      "source": [
        "### <a name='4'></a> Ćwiczenie 54\n",
        "Podana jest poniższa dwuwymiarowa tablica:\n",
        "\n",
        "```\n",
        "A = np.random.randint(low=0, high=7, size=(5, 8))\n",
        "A[:, :2] = 0\n",
        "A[:, -2:] = 1\n",
        "A\n",
        "```\n",
        "```\n",
        "array([[0, 0, 4, 6, 2, 4, 1, 1],\n",
        "       [0, 0, 6, 2, 2, 4, 1, 1],\n",
        "       [0, 0, 1, 3, 5, 5, 1, 1],\n",
        "       [0, 0, 3, 1, 5, 4, 1, 1],\n",
        "       [0, 0, 2, 6, 1, 3, 1, 1]])\n",
        "```\n",
        "\n",
        "Podziel tablicę na 3 części tak aby pierwsze dwie kolumny stanowiły pierwszą tablicę $A1$, cztery kolejne drugą tablicę $A2$ oraz dwie ostatnie trzecią tablicę $A3$.\n",
        "\n",
        "__Wskazówka:__ Wykorzystaj funkcję _np.split()_."
      ]
    },
    {
      "cell_type": "code",
      "metadata": {
        "id": "U5MFrLUHBsEf"
      },
      "source": [
        "# tutaj wpisz rozwiązanie\n",
        "\n",
        "A = np.random.randint(low=0, high=7, size=(5, 8))\n",
        "A[:, :2] = 0\n",
        "A[:, -2:] = 1\n",
        "\n",
        "A1, A2, A3 = np.split(A, indices_or_sections=[2,6], axis=1)"
      ],
      "execution_count": 26,
      "outputs": []
    },
    {
      "cell_type": "markdown",
      "metadata": {
        "id": "o3HKIKlP15Ro"
      },
      "source": [
        "### <a name='5'></a> Ćwiczenie 55\n",
        "Podana jest poniższa tablica $A$:\n",
        "\n",
        "```\n",
        "A = np.random.randint(low=0, high=2, size=(10, 6))\n",
        "```\n",
        "Wyznacz łączną liczbę elementów niezerowych dla tej tablicy.\n",
        "\n",
        "__Wskazówka:__ Wykorzystaj funkcję _np.count_nonzero()_.\n"
      ]
    },
    {
      "cell_type": "code",
      "metadata": {
        "id": "j5E2nOFyDy1b",
        "colab": {
          "base_uri": "https://localhost:8080/"
        },
        "outputId": "3ce5ec1e-198c-4f11-fe20-0599ef5751eb"
      },
      "source": [
        "# tutaj wpisz rozwiązanie\n",
        "A = np.random.randint(low=0, high=2, size=(10, 6))\n",
        "\n",
        "np.count_nonzero(A)"
      ],
      "execution_count": 27,
      "outputs": [
        {
          "output_type": "execute_result",
          "data": {
            "text/plain": [
              "32"
            ]
          },
          "metadata": {},
          "execution_count": 27
        }
      ]
    },
    {
      "cell_type": "markdown",
      "metadata": {
        "id": "wJde65uYhJ2f"
      },
      "source": [
        "Wyznacz łączną liczbę elementów niezerowych dla każdego wiersza tej tablicy.\n",
        "\n",
        "__Wskazówka:__ Wykorzystaj funkcję _np.count_nonzero()_."
      ]
    },
    {
      "cell_type": "code",
      "metadata": {
        "id": "BWG-icQuEEPS",
        "colab": {
          "base_uri": "https://localhost:8080/"
        },
        "outputId": "78dd48d2-70cf-49a3-c683-e3d89406b161"
      },
      "source": [
        "# tutaj wpisz rozwiązanie\n",
        "\n",
        "A = np.random.randint(low=0, high=2, size=(10, 6))\n",
        "\n",
        "np.count_nonzero(A, axis=1)"
      ],
      "execution_count": 32,
      "outputs": [
        {
          "output_type": "execute_result",
          "data": {
            "text/plain": [
              "array([2, 3, 2, 2, 5, 2, 2, 2, 1, 1])"
            ]
          },
          "metadata": {},
          "execution_count": 32
        }
      ]
    },
    {
      "cell_type": "markdown",
      "metadata": {
        "id": "PunXd_Ey16so"
      },
      "source": [
        "### <a name='6'></a> Ćwiczenie 56\n",
        "Poniżej podana jest przykładowa tablica $A$:\n",
        "\n",
        "```\n",
        "A = np.random.randn(10, 4)\n",
        "```\n",
        "\n",
        "```\n",
        "array([[-0.53441645, -1.49505387, -0.78925833,  0.74371128],\n",
        "       [-0.21216142, -0.42686879,  0.50144833,  1.15818665],\n",
        "       [ 0.25711687,  0.3145129 ,  1.37186213,  0.17555329],\n",
        "       [-0.30928855,  0.6731255 , -0.25663018, -0.36782572],\n",
        "       [ 1.27373362, -0.29195267, -2.65517605,  0.34551794],\n",
        "       [-0.39551645, -0.28913686,  0.45293633, -0.16606091],\n",
        "       [ 0.21493883, -2.02231493, -0.94305681,  1.40395874],\n",
        "       [-0.0185508 , -1.67350462, -1.07253183, -0.99258618],\n",
        "       [ 0.10234768, -0.43260928, -0.6591823 ,  0.0039373 ],\n",
        "       [ 0.4777541 , -0.25902864, -0.57470921, -0.42149822]])\n",
        "```\n",
        "\n",
        "\n",
        "Ustaw odopowiednią opcję biblioteki numpy pozwalającą drukować tablice z określoną precyzją. Ustaw jej wartość na 4 i wydrukuj tablicę $A$.\n",
        "\n"
      ]
    },
    {
      "cell_type": "code",
      "metadata": {
        "id": "aL6C9MYSYkaL",
        "colab": {
          "base_uri": "https://localhost:8080/"
        },
        "outputId": "5d5280d7-c88b-4e0d-9164-109068d0fe5f"
      },
      "source": [
        "# tutaj wpisz rozwiązanie\n",
        "\n",
        "np.set_printoptions(precision=4)\n",
        "\n",
        "A = np.random.randn(10, 4)\n",
        "A"
      ],
      "execution_count": 34,
      "outputs": [
        {
          "output_type": "execute_result",
          "data": {
            "text/plain": [
              "array([[-0.0062,  0.4031,  1.1227, -1.4412],\n",
              "       [-0.1229, -0.0753, -1.1013,  0.4877],\n",
              "       [ 0.7474, -0.2907,  2.0551, -0.3194],\n",
              "       [-0.4467, -0.4757, -0.8155, -0.559 ],\n",
              "       [-1.4341, -0.1915,  0.0575, -2.2828],\n",
              "       [-0.1019,  0.0421,  0.5146,  1.2046],\n",
              "       [ 0.8514, -0.6204, -0.7364,  0.5795],\n",
              "       [-0.5473, -1.2281,  2.3741, -0.3107],\n",
              "       [-0.6265, -2.1921,  0.8514, -0.9879],\n",
              "       [ 0.0286,  0.9686, -0.9723,  0.0795]])"
            ]
          },
          "metadata": {},
          "execution_count": 34
        }
      ]
    },
    {
      "cell_type": "markdown",
      "metadata": {
        "id": "hOhqDRz618Tx"
      },
      "source": [
        "### <a name='7'></a> Ćwiczenie 57\n",
        "Podana jest poniższa tablica numpy $A$:\n",
        "\n",
        "```\n",
        "A = np.array([1.2e-6, 1.7e-7])\n",
        "```\n",
        "\n",
        "Ustaw wartość precyzji na 8. Następnie ustaw odopowiednią opcję biblioteki numpy pozwalającą stłumić notację wykładniczą. Wydrukuj tablicę $A$.\n",
        "\n",
        "__Oczekiwany wynik:__\n",
        "\n",
        "\n",
        "```\n",
        "array([0.0000012 , 0.00000017])\n",
        "```\n",
        "\n",
        "\n",
        "\n"
      ]
    },
    {
      "cell_type": "code",
      "metadata": {
        "id": "BUr3XXiWdUWi",
        "colab": {
          "base_uri": "https://localhost:8080/"
        },
        "outputId": "235383c3-9784-4c62-ed23-4c899153faa5"
      },
      "source": [
        "# tutaj wpisz rozwiązanie\n",
        "\n",
        "np.set_printoptions(precision=8, suppress=True)\n",
        "A = np.array([1.2e-6, 1.7e-7])\n",
        "A"
      ],
      "execution_count": 35,
      "outputs": [
        {
          "output_type": "execute_result",
          "data": {
            "text/plain": [
              "array([0.0000012 , 0.00000017])"
            ]
          },
          "metadata": {},
          "execution_count": 35
        }
      ]
    },
    {
      "cell_type": "markdown",
      "metadata": {
        "id": "TXUd_4631-gw"
      },
      "source": [
        "### <a name='8'></a> Ćwiczenie 58\n",
        "Podana jest poniższa tablica numpy $A$:\n",
        "\n",
        "```\n",
        "A = np.random.randn(8, 4)\n",
        "```\n",
        "Usuń trzecią kolumnę z tablicy $A$.\n",
        "\n",
        "__Oczekiwany wynik:__\n",
        "\n",
        "\n",
        "```\n",
        "array([[-0.55692881, -0.66003196,  0.70856031],\n",
        "       [ 0.22378737, -0.19796576, -0.16889332],\n",
        "       [ 0.26062786,  0.29865445, -0.92259267],\n",
        "       [-2.40317659,  1.79961876, -1.96495796],\n",
        "       [ 0.13051561, -1.7085185 ,  0.54885043],\n",
        "       [ 1.77268727,  0.38751181, -0.05141955],\n",
        "       [-1.80858596, -0.45075211,  0.15332866],\n",
        "       [ 1.94218961, -1.93679529, -1.83350954]])\n",
        "```\n",
        "__Wskazówka:__ Wykorzystaj funkcję _np.delete()_.\n",
        "\n",
        "\n"
      ]
    },
    {
      "cell_type": "code",
      "metadata": {
        "id": "o5PxnILogU6z",
        "colab": {
          "base_uri": "https://localhost:8080/"
        },
        "outputId": "c462b265-6567-4deb-f9ba-412459848e31"
      },
      "source": [
        "# tutaj wpisz rozwiązanie\n",
        "\n",
        "A = np.random.randn(8, 4)\n",
        "\n",
        "np.delete(A, [2], axis=1)"
      ],
      "execution_count": 51,
      "outputs": [
        {
          "output_type": "execute_result",
          "data": {
            "text/plain": [
              "array([[-0.17677416,\n",
              "        -1.5486183 ,\n",
              "        -0.28487549],\n",
              "       [-0.25617975,\n",
              "        -0.24149745,\n",
              "         0.47944152],\n",
              "       [ 0.87451707,\n",
              "        -0.64976523,\n",
              "        -1.04204441],\n",
              "       [-0.48720292,\n",
              "        -0.35192132,\n",
              "        -1.29611666],\n",
              "       [-0.45612083,\n",
              "         0.18142662,\n",
              "        -0.55742305],\n",
              "       [-0.41299782,\n",
              "        -0.92669831,\n",
              "        -0.84842863],\n",
              "       [ 0.57312781,\n",
              "        -1.78586649,\n",
              "         0.30110734],\n",
              "       [ 0.18383452,\n",
              "         2.69303366,\n",
              "        -1.0040546 ]])"
            ]
          },
          "metadata": {},
          "execution_count": 51
        }
      ]
    },
    {
      "cell_type": "markdown",
      "metadata": {
        "id": "tgI6xEn-2AQo"
      },
      "source": [
        "### <a name='9'></a> Ćwiczenie 59\n",
        "Podana jest tablica jednowymiarowa $v$ (wektor):\n",
        "\n",
        "```\n",
        "v = np.array([3, 4, -2])\n",
        "```\n",
        "Policz normę wektora $v$.\n"
      ]
    },
    {
      "cell_type": "code",
      "metadata": {
        "id": "TYPzAZCwi-Ky",
        "colab": {
          "base_uri": "https://localhost:8080/"
        },
        "outputId": "6d692995-e49a-4c89-e9dc-c4aa10d42caf"
      },
      "source": [
        "# tutaj wpisz rozwiązanie\n",
        "v = np.array([3, 4, -2])\n",
        "np.linalg.norm(v)"
      ],
      "execution_count": 46,
      "outputs": [
        {
          "output_type": "execute_result",
          "data": {
            "text/plain": [
              "5.385164807134504"
            ]
          },
          "metadata": {},
          "execution_count": 46
        }
      ]
    },
    {
      "cell_type": "markdown",
      "metadata": {
        "id": "wxhpf-uq2B1I"
      },
      "source": [
        "### <a name='10'></a> Ćwiczenie 60\n",
        "Poniżej podana jest przykładowa tablica $A$:\n",
        "\n",
        "\n",
        "```\n",
        "A = np.random.randint(10, size=(100, 30))\n",
        "```\n",
        "Ustaw odopowiednią opcję biblioteki numpy pozwalającą drukować 10 skrajnych elementów. Wydrukuj tablicę $A$.\n"
      ]
    },
    {
      "cell_type": "code",
      "metadata": {
        "id": "liJX2nIBk-gO",
        "colab": {
          "base_uri": "https://localhost:8080/"
        },
        "outputId": "fd56fb2d-435c-416a-89e6-b1ced24d8657"
      },
      "source": [
        "# tutaj wpisz rozwiązanie\n",
        "np.set_printoptions(edgeitems=10)\n",
        "A = np.random.randint(10, size=(100, 30))\n",
        "A"
      ],
      "execution_count": 53,
      "outputs": [
        {
          "output_type": "execute_result",
          "data": {
            "text/plain": [
              "array([[9,\n",
              "        8,\n",
              "        9,\n",
              "        0,\n",
              "        2,\n",
              "        1,\n",
              "        7,\n",
              "        6,\n",
              "        1,\n",
              "        5,\n",
              "        ...,\n",
              "        9,\n",
              "        1,\n",
              "        8,\n",
              "        5,\n",
              "        6,\n",
              "        4,\n",
              "        8,\n",
              "        0,\n",
              "        4,\n",
              "        9],\n",
              "       [5,\n",
              "        6,\n",
              "        3,\n",
              "        0,\n",
              "        7,\n",
              "        9,\n",
              "        3,\n",
              "        2,\n",
              "        6,\n",
              "        1,\n",
              "        ...,\n",
              "        7,\n",
              "        0,\n",
              "        6,\n",
              "        4,\n",
              "        2,\n",
              "        6,\n",
              "        8,\n",
              "        1,\n",
              "        7,\n",
              "        8],\n",
              "       [2,\n",
              "        1,\n",
              "        6,\n",
              "        4,\n",
              "        4,\n",
              "        9,\n",
              "        4,\n",
              "        3,\n",
              "        4,\n",
              "        3,\n",
              "        ...,\n",
              "        2,\n",
              "        0,\n",
              "        0,\n",
              "        2,\n",
              "        4,\n",
              "        2,\n",
              "        8,\n",
              "        8,\n",
              "        2,\n",
              "        2],\n",
              "       [4,\n",
              "        1,\n",
              "        5,\n",
              "        6,\n",
              "        8,\n",
              "        5,\n",
              "        2,\n",
              "        4,\n",
              "        3,\n",
              "        4,\n",
              "        ...,\n",
              "        9,\n",
              "        6,\n",
              "        8,\n",
              "        7,\n",
              "        8,\n",
              "        7,\n",
              "        1,\n",
              "        6,\n",
              "        1,\n",
              "        1],\n",
              "       [3,\n",
              "        0,\n",
              "        4,\n",
              "        5,\n",
              "        8,\n",
              "        9,\n",
              "        7,\n",
              "        1,\n",
              "        0,\n",
              "        1,\n",
              "        ...,\n",
              "        0,\n",
              "        0,\n",
              "        8,\n",
              "        4,\n",
              "        0,\n",
              "        6,\n",
              "        8,\n",
              "        0,\n",
              "        9,\n",
              "        3],\n",
              "       [2,\n",
              "        4,\n",
              "        6,\n",
              "        7,\n",
              "        1,\n",
              "        6,\n",
              "        0,\n",
              "        6,\n",
              "        7,\n",
              "        1,\n",
              "        ...,\n",
              "        3,\n",
              "        8,\n",
              "        3,\n",
              "        9,\n",
              "        9,\n",
              "        7,\n",
              "        4,\n",
              "        9,\n",
              "        0,\n",
              "        6],\n",
              "       [2,\n",
              "        9,\n",
              "        7,\n",
              "        2,\n",
              "        0,\n",
              "        4,\n",
              "        1,\n",
              "        3,\n",
              "        0,\n",
              "        8,\n",
              "        ...,\n",
              "        5,\n",
              "        6,\n",
              "        0,\n",
              "        6,\n",
              "        0,\n",
              "        4,\n",
              "        5,\n",
              "        1,\n",
              "        9,\n",
              "        8],\n",
              "       [9,\n",
              "        5,\n",
              "        6,\n",
              "        9,\n",
              "        7,\n",
              "        9,\n",
              "        0,\n",
              "        7,\n",
              "        3,\n",
              "        9,\n",
              "        ...,\n",
              "        7,\n",
              "        3,\n",
              "        5,\n",
              "        9,\n",
              "        5,\n",
              "        2,\n",
              "        4,\n",
              "        2,\n",
              "        0,\n",
              "        6],\n",
              "       [3,\n",
              "        6,\n",
              "        2,\n",
              "        4,\n",
              "        4,\n",
              "        1,\n",
              "        9,\n",
              "        1,\n",
              "        3,\n",
              "        3,\n",
              "        ...,\n",
              "        4,\n",
              "        1,\n",
              "        6,\n",
              "        1,\n",
              "        5,\n",
              "        9,\n",
              "        2,\n",
              "        8,\n",
              "        2,\n",
              "        2],\n",
              "       [4,\n",
              "        6,\n",
              "        7,\n",
              "        6,\n",
              "        8,\n",
              "        4,\n",
              "        9,\n",
              "        2,\n",
              "        5,\n",
              "        4,\n",
              "        ...,\n",
              "        4,\n",
              "        4,\n",
              "        9,\n",
              "        1,\n",
              "        0,\n",
              "        7,\n",
              "        2,\n",
              "        0,\n",
              "        0,\n",
              "        1],\n",
              "       ...,\n",
              "       [7,\n",
              "        3,\n",
              "        6,\n",
              "        9,\n",
              "        2,\n",
              "        8,\n",
              "        9,\n",
              "        3,\n",
              "        1,\n",
              "        9,\n",
              "        ...,\n",
              "        6,\n",
              "        8,\n",
              "        2,\n",
              "        5,\n",
              "        8,\n",
              "        1,\n",
              "        6,\n",
              "        4,\n",
              "        4,\n",
              "        6],\n",
              "       [8,\n",
              "        3,\n",
              "        8,\n",
              "        9,\n",
              "        8,\n",
              "        3,\n",
              "        2,\n",
              "        1,\n",
              "        8,\n",
              "        1,\n",
              "        ...,\n",
              "        9,\n",
              "        9,\n",
              "        2,\n",
              "        9,\n",
              "        5,\n",
              "        0,\n",
              "        4,\n",
              "        9,\n",
              "        5,\n",
              "        7],\n",
              "       [8,\n",
              "        2,\n",
              "        1,\n",
              "        3,\n",
              "        7,\n",
              "        7,\n",
              "        2,\n",
              "        3,\n",
              "        2,\n",
              "        9,\n",
              "        ...,\n",
              "        6,\n",
              "        5,\n",
              "        6,\n",
              "        2,\n",
              "        2,\n",
              "        0,\n",
              "        3,\n",
              "        1,\n",
              "        9,\n",
              "        7],\n",
              "       [2,\n",
              "        6,\n",
              "        6,\n",
              "        8,\n",
              "        5,\n",
              "        0,\n",
              "        7,\n",
              "        0,\n",
              "        2,\n",
              "        4,\n",
              "        ...,\n",
              "        6,\n",
              "        0,\n",
              "        9,\n",
              "        9,\n",
              "        5,\n",
              "        0,\n",
              "        1,\n",
              "        4,\n",
              "        1,\n",
              "        9],\n",
              "       [0,\n",
              "        5,\n",
              "        7,\n",
              "        7,\n",
              "        7,\n",
              "        5,\n",
              "        2,\n",
              "        0,\n",
              "        1,\n",
              "        4,\n",
              "        ...,\n",
              "        6,\n",
              "        7,\n",
              "        4,\n",
              "        0,\n",
              "        3,\n",
              "        9,\n",
              "        2,\n",
              "        9,\n",
              "        4,\n",
              "        9],\n",
              "       [9,\n",
              "        5,\n",
              "        1,\n",
              "        6,\n",
              "        2,\n",
              "        0,\n",
              "        9,\n",
              "        2,\n",
              "        8,\n",
              "        9,\n",
              "        ...,\n",
              "        5,\n",
              "        1,\n",
              "        2,\n",
              "        0,\n",
              "        1,\n",
              "        1,\n",
              "        7,\n",
              "        7,\n",
              "        1,\n",
              "        5],\n",
              "       [4,\n",
              "        2,\n",
              "        4,\n",
              "        4,\n",
              "        4,\n",
              "        2,\n",
              "        2,\n",
              "        3,\n",
              "        6,\n",
              "        1,\n",
              "        ...,\n",
              "        7,\n",
              "        4,\n",
              "        7,\n",
              "        9,\n",
              "        2,\n",
              "        9,\n",
              "        6,\n",
              "        3,\n",
              "        4,\n",
              "        8],\n",
              "       [6,\n",
              "        3,\n",
              "        5,\n",
              "        9,\n",
              "        6,\n",
              "        9,\n",
              "        8,\n",
              "        3,\n",
              "        9,\n",
              "        2,\n",
              "        ...,\n",
              "        5,\n",
              "        1,\n",
              "        2,\n",
              "        9,\n",
              "        9,\n",
              "        4,\n",
              "        9,\n",
              "        3,\n",
              "        1,\n",
              "        3],\n",
              "       [7,\n",
              "        4,\n",
              "        4,\n",
              "        9,\n",
              "        2,\n",
              "        7,\n",
              "        5,\n",
              "        1,\n",
              "        1,\n",
              "        8,\n",
              "        ...,\n",
              "        2,\n",
              "        2,\n",
              "        6,\n",
              "        9,\n",
              "        1,\n",
              "        9,\n",
              "        9,\n",
              "        1,\n",
              "        2,\n",
              "        9],\n",
              "       [6,\n",
              "        2,\n",
              "        6,\n",
              "        8,\n",
              "        9,\n",
              "        3,\n",
              "        6,\n",
              "        8,\n",
              "        7,\n",
              "        7,\n",
              "        ...,\n",
              "        5,\n",
              "        4,\n",
              "        4,\n",
              "        9,\n",
              "        1,\n",
              "        3,\n",
              "        7,\n",
              "        7,\n",
              "        0,\n",
              "        1]])"
            ]
          },
          "metadata": {},
          "execution_count": 53
        }
      ]
    }
  ]
}