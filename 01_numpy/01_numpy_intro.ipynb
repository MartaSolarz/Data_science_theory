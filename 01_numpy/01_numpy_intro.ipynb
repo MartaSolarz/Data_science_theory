{
  "nbformat": 4,
  "nbformat_minor": 0,
  "metadata": {
    "colab": {
      "name": "Numpy.ipynb",
      "provenance": [],
      "collapsed_sections": [
        "7BAakZ5HnOFW",
        "PKBELzQzqmFD",
        "OW2_GMSZsPzN",
        "UIVs0soAwuqL",
        "H8BwPLTvJxvd",
        "xX-aFf1YNYiI",
        "BoS7bXgbQgJd",
        "a4PooC1AS9K6",
        "9GfSP-bDTF84"
      ],
      "toc_visible": true,
      "authorship_tag": "ABX9TyNWEw+1Yf8JWyDiufnMcUZT",
      "include_colab_link": true
    },
    "kernelspec": {
      "name": "python3",
      "display_name": "Python 3"
    },
    "language_info": {
      "name": "python"
    }
  },
  "cells": [
    {
      "cell_type": "markdown",
      "metadata": {
        "id": "view-in-github",
        "colab_type": "text"
      },
      "source": [
        "<a href=\"https://colab.research.google.com/github/MartaSolarz/Data_science_theory/blob/main/01_numpy/Numpy_intro.ipynb\" target=\"_parent\"><img src=\"https://colab.research.google.com/assets/colab-badge.svg\" alt=\"Open In Colab\"/></a>"
      ]
    },
    {
      "cell_type": "code",
      "execution_count": 1,
      "metadata": {
        "id": "uB2zcvSpjUri",
        "colab": {
          "base_uri": "https://localhost:8080/",
          "height": 36
        },
        "outputId": "d351d658-0265-4b86-e6ec-76275c357bf5"
      },
      "outputs": [
        {
          "output_type": "execute_result",
          "data": {
            "text/plain": [
              "'1.21.6'"
            ],
            "application/vnd.google.colaboratory.intrinsic+json": {
              "type": "string"
            }
          },
          "metadata": {},
          "execution_count": 1
        }
      ],
      "source": [
        "import numpy as np\n",
        "np.__version__"
      ]
    },
    {
      "cell_type": "code",
      "source": [
        "dir(np) # wyświetla jakie mamy funkcje"
      ],
      "metadata": {
        "id": "d9NEP_edj6TD"
      },
      "execution_count": null,
      "outputs": []
    },
    {
      "cell_type": "code",
      "source": [
        "help(np.array)"
      ],
      "metadata": {
        "id": "-O186tdQm4TG"
      },
      "execution_count": null,
      "outputs": []
    },
    {
      "cell_type": "markdown",
      "source": [
        "# 1. Podstawy - array\n",
        "\n",
        "- array 1D\n",
        "- array 2D\n",
        "- array 3D"
      ],
      "metadata": {
        "id": "7BAakZ5HnOFW"
      }
    },
    {
      "cell_type": "markdown",
      "source": [
        "Array 1D"
      ],
      "metadata": {
        "id": "24sLKLWPowDP"
      }
    },
    {
      "cell_type": "code",
      "source": [
        "# definiowanie tablicy jednowymiarowej\n",
        "x = np.array([1,3])\n",
        "x"
      ],
      "metadata": {
        "colab": {
          "base_uri": "https://localhost:8080/"
        },
        "id": "hkHVbLAynGgU",
        "outputId": "eba18095-9973-45a4-b44d-eb82cee8a17b"
      },
      "execution_count": null,
      "outputs": [
        {
          "output_type": "execute_result",
          "data": {
            "text/plain": [
              "array([1, 3])"
            ]
          },
          "metadata": {},
          "execution_count": 14
        }
      ]
    },
    {
      "cell_type": "code",
      "source": [
        "print(x)\n",
        "print(type(x))"
      ],
      "metadata": {
        "colab": {
          "base_uri": "https://localhost:8080/"
        },
        "id": "7gE8M3HxnWvs",
        "outputId": "ee8f1d69-86b9-406a-c94f-ffe2cf14f05b"
      },
      "execution_count": null,
      "outputs": [
        {
          "output_type": "stream",
          "name": "stdout",
          "text": [
            "[1 3]\n",
            "<class 'numpy.ndarray'>\n"
          ]
        }
      ]
    },
    {
      "cell_type": "code",
      "source": [
        "# wymiar tablicy\n",
        "x.ndim"
      ],
      "metadata": {
        "id": "1skkJ7aynf7J"
      },
      "execution_count": null,
      "outputs": []
    },
    {
      "cell_type": "code",
      "source": [
        "# kształt tablicy\n",
        "x.shape"
      ],
      "metadata": {
        "id": "i1WGiidOnrO4"
      },
      "execution_count": null,
      "outputs": []
    },
    {
      "cell_type": "code",
      "source": [
        "# liczba elementów w tablicy\n",
        "x.size"
      ],
      "metadata": {
        "id": "UzLRTuEnn_7X"
      },
      "execution_count": null,
      "outputs": []
    },
    {
      "cell_type": "code",
      "source": [
        "# typ danych przechowywanych przez tablicę\n",
        "x.dtype"
      ],
      "metadata": {
        "id": "iqOCGc46oGFq"
      },
      "execution_count": null,
      "outputs": []
    },
    {
      "cell_type": "markdown",
      "source": [
        "Array 2D"
      ],
      "metadata": {
        "id": "tU6s0ReEo1NU"
      }
    },
    {
      "cell_type": "code",
      "source": [
        "x = np.array([[1,2],[3,4]])"
      ],
      "metadata": {
        "id": "dm90zjn9oJSL"
      },
      "execution_count": null,
      "outputs": []
    },
    {
      "cell_type": "code",
      "source": [
        "print(x)"
      ],
      "metadata": {
        "colab": {
          "base_uri": "https://localhost:8080/"
        },
        "id": "sxRIExnPo6tA",
        "outputId": "0ed56266-90a6-4714-8bda-bc78f16604bb"
      },
      "execution_count": null,
      "outputs": [
        {
          "output_type": "stream",
          "name": "stdout",
          "text": [
            "[[1 2]\n",
            " [3 4]]\n"
          ]
        }
      ]
    },
    {
      "cell_type": "code",
      "source": [
        "x.shape"
      ],
      "metadata": {
        "colab": {
          "base_uri": "https://localhost:8080/"
        },
        "id": "Z0q0q30lpDaw",
        "outputId": "cec3eaf4-2240-42a5-f0d7-77661f1f03d3"
      },
      "execution_count": null,
      "outputs": [
        {
          "output_type": "execute_result",
          "data": {
            "text/plain": [
              "(2, 2)"
            ]
          },
          "metadata": {},
          "execution_count": 25
        }
      ]
    },
    {
      "cell_type": "markdown",
      "source": [
        "Array 3D"
      ],
      "metadata": {
        "id": "Dp_LPLN0pg_f"
      }
    },
    {
      "cell_type": "code",
      "source": [
        "x = np.array(\n",
        "    [[[1,2,3], \n",
        "      [2,4,6]],\n",
        "     \n",
        "     [[1,4,7],\n",
        "      [3,6,9]],\n",
        "     \n",
        "     [[1,2,3],\n",
        "      [0,4,6]]]\n",
        ")"
      ],
      "metadata": {
        "id": "QdJ5kzfEpINR"
      },
      "execution_count": null,
      "outputs": []
    },
    {
      "cell_type": "code",
      "source": [
        "print(x)"
      ],
      "metadata": {
        "colab": {
          "base_uri": "https://localhost:8080/"
        },
        "id": "rDtYhZaZqLMD",
        "outputId": "6717422a-f82c-4df5-852e-1eec4b12778e"
      },
      "execution_count": null,
      "outputs": [
        {
          "output_type": "stream",
          "name": "stdout",
          "text": [
            "[[[1 2 3]\n",
            "  [2 4 6]]\n",
            "\n",
            " [[1 4 7]\n",
            "  [3 6 9]]\n",
            "\n",
            " [[1 2 3]\n",
            "  [0 4 6]]]\n"
          ]
        }
      ]
    },
    {
      "cell_type": "code",
      "source": [
        "x.shape  # (liczba zbiorów \"wysokość\", wiersze, kolumny)"
      ],
      "metadata": {
        "colab": {
          "base_uri": "https://localhost:8080/"
        },
        "id": "3KEwPqthqMul",
        "outputId": "86299dc8-0d22-426c-e3bb-ff32d337ba49"
      },
      "execution_count": null,
      "outputs": [
        {
          "output_type": "execute_result",
          "data": {
            "text/plain": [
              "(3, 2, 3)"
            ]
          },
          "metadata": {},
          "execution_count": 29
        }
      ]
    },
    {
      "cell_type": "code",
      "source": [
        "np.array([[[1,2,3], [2,3,4]]]).shape"
      ],
      "metadata": {
        "colab": {
          "base_uri": "https://localhost:8080/"
        },
        "id": "T4PtYvK6qOUu",
        "outputId": "30abdfce-eb20-4efc-8398-15967a8fff64"
      },
      "execution_count": null,
      "outputs": [
        {
          "output_type": "execute_result",
          "data": {
            "text/plain": [
              "(1, 2, 3)"
            ]
          },
          "metadata": {},
          "execution_count": 30
        }
      ]
    },
    {
      "cell_type": "markdown",
      "source": [
        "# 2. Typy danych\n",
        "\n",
        "- sprawdzanie typu (np.dtype)\n",
        "- narzucanie typu (dtype='')\n",
        "\n",
        "TYPY:\n",
        "- int\n",
        "- float\n",
        "- complex (liczby złożone)\n",
        "- bool"
      ],
      "metadata": {
        "id": "PKBELzQzqmFD"
      }
    },
    {
      "cell_type": "code",
      "source": [
        "# sprawdzanie typu danych w tablicy\n",
        "\n",
        "x.dtype"
      ],
      "metadata": {
        "id": "7NVRRtHXqdxJ"
      },
      "execution_count": null,
      "outputs": []
    },
    {
      "cell_type": "code",
      "source": [
        "# można przy tworzeniu tablicy narzucić jaki to ma być typ danych\n",
        "\n",
        "x = np.array([[1,2,4,5], [3,5,6,7]], dtype='complex')\n",
        "x"
      ],
      "metadata": {
        "colab": {
          "base_uri": "https://localhost:8080/"
        },
        "id": "BL-T_KMvq4IX",
        "outputId": "318bc967-226b-48e3-ae7f-6be602c37c18"
      },
      "execution_count": null,
      "outputs": [
        {
          "output_type": "execute_result",
          "data": {
            "text/plain": [
              "array([[1.+0.j, 2.+0.j, 4.+0.j, 5.+0.j],\n",
              "       [3.+0.j, 5.+0.j, 6.+0.j, 7.+0.j]])"
            ]
          },
          "metadata": {},
          "execution_count": 36
        }
      ]
    },
    {
      "cell_type": "code",
      "source": [
        "# możemy też określać liczbę bitów typów np:\n",
        "x = np.array([25,67,88], dtype=np.int8)\n",
        "x.dtype"
      ],
      "metadata": {
        "colab": {
          "base_uri": "https://localhost:8080/"
        },
        "id": "BaEMWgeCrGs9",
        "outputId": "e598793c-5809-404e-eff0-72beb27d0b01"
      },
      "execution_count": null,
      "outputs": [
        {
          "output_type": "execute_result",
          "data": {
            "text/plain": [
              "dtype('int8')"
            ]
          },
          "metadata": {},
          "execution_count": 38
        }
      ]
    },
    {
      "cell_type": "code",
      "source": [
        "# do obrazów stosujemy: (Computer Version - na koniec kursu)\n",
        "x = np.array([25,67,88], dtype=np.uint8)\n",
        "x.dtype"
      ],
      "metadata": {
        "colab": {
          "base_uri": "https://localhost:8080/"
        },
        "id": "fjrZd_YLr10t",
        "outputId": "69bbdfa9-b6a6-40e0-de5d-43b9be23fb2b"
      },
      "execution_count": null,
      "outputs": [
        {
          "output_type": "execute_result",
          "data": {
            "text/plain": [
              "dtype('uint8')"
            ]
          },
          "metadata": {},
          "execution_count": 39
        }
      ]
    },
    {
      "cell_type": "markdown",
      "source": [
        "# 3. Tworzenie tablic\n",
        "\n",
        "- zeros\n",
        "- ones\n",
        "- full\n",
        "- arange\n",
        "- linspace\n",
        "\n",
        "Modyfikacja kształtu:\n",
        "- reshape"
      ],
      "metadata": {
        "id": "OW2_GMSZsPzN"
      }
    },
    {
      "cell_type": "code",
      "source": [
        "# tablia z samych zer, można podać typ tych danych\n",
        "np.zeros(shape=(2,3,2))"
      ],
      "metadata": {
        "colab": {
          "base_uri": "https://localhost:8080/"
        },
        "id": "kibm5cr6sCG7",
        "outputId": "6b717f7f-8583-4190-d953-c02d8d9719d2"
      },
      "execution_count": null,
      "outputs": [
        {
          "output_type": "execute_result",
          "data": {
            "text/plain": [
              "array([[[0., 0.],\n",
              "        [0., 0.],\n",
              "        [0., 0.]],\n",
              "\n",
              "       [[0., 0.],\n",
              "        [0., 0.],\n",
              "        [0., 0.]]])"
            ]
          },
          "metadata": {},
          "execution_count": 48
        }
      ]
    },
    {
      "cell_type": "code",
      "source": [
        "np.ones(shape=(5,5))"
      ],
      "metadata": {
        "colab": {
          "base_uri": "https://localhost:8080/"
        },
        "id": "kCw07tWqsYx9",
        "outputId": "64733d8f-730a-4357-a731-5764f23af4cc"
      },
      "execution_count": null,
      "outputs": [
        {
          "output_type": "execute_result",
          "data": {
            "text/plain": [
              "array([[1., 1., 1., 1., 1.],\n",
              "       [1., 1., 1., 1., 1.],\n",
              "       [1., 1., 1., 1., 1.],\n",
              "       [1., 1., 1., 1., 1.],\n",
              "       [1., 1., 1., 1., 1.]])"
            ]
          },
          "metadata": {},
          "execution_count": 47
        }
      ]
    },
    {
      "cell_type": "code",
      "source": [
        "# wypełnia tablice dowolnymi wartościami - przydatne np. do tworzenia masek\n",
        "np.full(shape=(3,3), fill_value=5)"
      ],
      "metadata": {
        "colab": {
          "base_uri": "https://localhost:8080/"
        },
        "id": "PVdittKLsvTi",
        "outputId": "42d8d210-9ace-4fd5-92b0-84f42bbd5bc1"
      },
      "execution_count": null,
      "outputs": [
        {
          "output_type": "execute_result",
          "data": {
            "text/plain": [
              "array([[5, 5, 5],\n",
              "       [5, 5, 5],\n",
              "       [5, 5, 5]])"
            ]
          },
          "metadata": {},
          "execution_count": 46
        }
      ]
    },
    {
      "cell_type": "code",
      "source": [
        "# tablica - liczby z zakresu (analogiczne do range)\n",
        "np.arange(10)"
      ],
      "metadata": {
        "colab": {
          "base_uri": "https://localhost:8080/"
        },
        "id": "FSnKxDbks4KZ",
        "outputId": "cd534c77-d96e-4cfe-d0cb-5e1dec8c6058"
      },
      "execution_count": null,
      "outputs": [
        {
          "output_type": "execute_result",
          "data": {
            "text/plain": [
              "array([0, 1, 2, 3, 4, 5, 6, 7, 8, 9])"
            ]
          },
          "metadata": {},
          "execution_count": 50
        }
      ]
    },
    {
      "cell_type": "code",
      "source": [
        "# określamy krok między początkiem i końcem przedziału\n",
        "np.arange(start=5,stop=100,step=15)"
      ],
      "metadata": {
        "colab": {
          "base_uri": "https://localhost:8080/"
        },
        "id": "CZoSuAuHtNaR",
        "outputId": "1646304e-e0af-4325-9080-57fc9bda2f3e"
      },
      "execution_count": null,
      "outputs": [
        {
          "output_type": "execute_result",
          "data": {
            "text/plain": [
              "array([ 5, 20, 35, 50, 65, 80, 95])"
            ]
          },
          "metadata": {},
          "execution_count": 60
        }
      ]
    },
    {
      "cell_type": "code",
      "source": [
        "# możemy też malejąco:\n",
        "np.arange(start=100,stop=5,step=-15)"
      ],
      "metadata": {
        "colab": {
          "base_uri": "https://localhost:8080/"
        },
        "id": "5X8MtwlZtas_",
        "outputId": "a45a7037-78d3-4c32-ef46-67a62ad140e2"
      },
      "execution_count": null,
      "outputs": [
        {
          "output_type": "execute_result",
          "data": {
            "text/plain": [
              "array([100,  85,  70,  55,  40,  25,  10])"
            ]
          },
          "metadata": {},
          "execution_count": 54
        }
      ]
    },
    {
      "cell_type": "code",
      "source": [
        "# podobne do arange - wskazujemy ile wartości równo rozłożonych chcemy wygenerować z podanego zbioru\n",
        "np.linspace(start=10, stop=100, num=12)"
      ],
      "metadata": {
        "colab": {
          "base_uri": "https://localhost:8080/"
        },
        "id": "zz6Zf115tsmv",
        "outputId": "970393ee-4fe0-4ed9-82ef-a9e8433f623c"
      },
      "execution_count": null,
      "outputs": [
        {
          "output_type": "execute_result",
          "data": {
            "text/plain": [
              "array([ 10.        ,  18.18181818,  26.36363636,  34.54545455,\n",
              "        42.72727273,  50.90909091,  59.09090909,  67.27272727,\n",
              "        75.45454545,  83.63636364,  91.81818182, 100.        ])"
            ]
          },
          "metadata": {},
          "execution_count": 61
        }
      ]
    },
    {
      "cell_type": "code",
      "source": [
        "# zmiana kształtu\n",
        "\n",
        "tablica = np.arange(15)"
      ],
      "metadata": {
        "id": "nzNYRl2burMN"
      },
      "execution_count": null,
      "outputs": []
    },
    {
      "cell_type": "code",
      "source": [
        "tablica.reshape((3,5))"
      ],
      "metadata": {
        "colab": {
          "base_uri": "https://localhost:8080/"
        },
        "id": "hh9zoBJYvGJM",
        "outputId": "d57a4d76-7861-4da4-a0d7-abbec6cf1112"
      },
      "execution_count": null,
      "outputs": [
        {
          "output_type": "execute_result",
          "data": {
            "text/plain": [
              "array([[ 0,  1,  2,  3,  4],\n",
              "       [ 5,  6,  7,  8,  9],\n",
              "       [10, 11, 12, 13, 14]])"
            ]
          },
          "metadata": {},
          "execution_count": 71
        }
      ]
    },
    {
      "cell_type": "code",
      "source": [
        "# lub numpy automatycznie wykryje:\n",
        "tablica.reshape((3,-1))"
      ],
      "metadata": {
        "colab": {
          "base_uri": "https://localhost:8080/"
        },
        "id": "3zS0uzmqvSZw",
        "outputId": "7694f693-58bf-40e4-abec-a887c004fd36"
      },
      "execution_count": null,
      "outputs": [
        {
          "output_type": "execute_result",
          "data": {
            "text/plain": [
              "array([[ 0,  1,  2,  3,  4],\n",
              "       [ 5,  6,  7,  8,  9],\n",
              "       [10, 11, 12, 13, 14]])"
            ]
          },
          "metadata": {},
          "execution_count": 72
        }
      ]
    },
    {
      "cell_type": "markdown",
      "source": [
        "# 4. Podstawowe operacje na tablicach\n",
        "\n",
        "- dodawanie: A+B lub np.add(A, B)\n",
        "- odejmowanie: A-B lub np.subtract(A, B)\n",
        "- mnożenie: A*B lub np.multiply(A, B)\n",
        "- dzielenie: A/B lub np.divide(A, B)\n",
        "- mnożenie macierzowe: np.dot(X, Y) lub X.dot(Y) lub X@Y"
      ],
      "metadata": {
        "id": "UIVs0soAwuqL"
      }
    },
    {
      "cell_type": "code",
      "source": [
        "A = np.array([3, 1, 4, 2])\n",
        "B = np.array([3, -1, 3, 2])"
      ],
      "metadata": {
        "id": "SDwnUVNxw17p"
      },
      "execution_count": 2,
      "outputs": []
    },
    {
      "cell_type": "code",
      "source": [
        "# dodawanie element po elemencie\n",
        "A + B"
      ],
      "metadata": {
        "colab": {
          "base_uri": "https://localhost:8080/"
        },
        "id": "DakH_ImvHDaE",
        "outputId": "3dade108-f552-4ddf-c269-8e8f79210b97"
      },
      "execution_count": 3,
      "outputs": [
        {
          "output_type": "execute_result",
          "data": {
            "text/plain": [
              "array([6, 0, 7, 4])"
            ]
          },
          "metadata": {},
          "execution_count": 3
        }
      ]
    },
    {
      "cell_type": "code",
      "source": [
        "# odejmowanie element po elemencie\n",
        "A - B"
      ],
      "metadata": {
        "colab": {
          "base_uri": "https://localhost:8080/"
        },
        "id": "y0_oM08JHG3e",
        "outputId": "64360bb0-0092-4727-f94d-c2c6073996b8"
      },
      "execution_count": 4,
      "outputs": [
        {
          "output_type": "execute_result",
          "data": {
            "text/plain": [
              "array([0, 2, 1, 0])"
            ]
          },
          "metadata": {},
          "execution_count": 4
        }
      ]
    },
    {
      "cell_type": "code",
      "source": [
        "# mnożenie\n",
        "A * B"
      ],
      "metadata": {
        "colab": {
          "base_uri": "https://localhost:8080/"
        },
        "id": "yhp6quXTHNsk",
        "outputId": "817763c1-8093-4e79-c510-bf92752ca047"
      },
      "execution_count": 5,
      "outputs": [
        {
          "output_type": "execute_result",
          "data": {
            "text/plain": [
              "array([ 9, -1, 12,  4])"
            ]
          },
          "metadata": {},
          "execution_count": 5
        }
      ]
    },
    {
      "cell_type": "code",
      "source": [
        "# dzielenie *nie może w tablicy być zero!*\n",
        "A / B"
      ],
      "metadata": {
        "colab": {
          "base_uri": "https://localhost:8080/"
        },
        "id": "urXiX4AwHQjT",
        "outputId": "f92ab9ee-e625-4ba3-b5c1-3829c647d2c3"
      },
      "execution_count": 6,
      "outputs": [
        {
          "output_type": "execute_result",
          "data": {
            "text/plain": [
              "array([ 1.        , -1.        ,  1.33333333,  1.        ])"
            ]
          },
          "metadata": {},
          "execution_count": 6
        }
      ]
    },
    {
      "cell_type": "code",
      "source": [
        "# dodatnie 3 do każdego elementu\n",
        "A + 3"
      ],
      "metadata": {
        "colab": {
          "base_uri": "https://localhost:8080/"
        },
        "id": "tNe_u9NrHWXI",
        "outputId": "006e3ca2-dd6e-4ba8-f552-3bd51751b4c6"
      },
      "execution_count": 7,
      "outputs": [
        {
          "output_type": "execute_result",
          "data": {
            "text/plain": [
              "array([6, 4, 7, 5])"
            ]
          },
          "metadata": {},
          "execution_count": 7
        }
      ]
    },
    {
      "cell_type": "code",
      "source": [
        "# bardziej złożone operacje\n",
        "A + 3*B"
      ],
      "metadata": {
        "colab": {
          "base_uri": "https://localhost:8080/"
        },
        "id": "Dzo1kJ5THfts",
        "outputId": "632f7bd3-f58f-4eac-c02a-1e44e9d08032"
      },
      "execution_count": 8,
      "outputs": [
        {
          "output_type": "execute_result",
          "data": {
            "text/plain": [
              "array([12, -2, 13,  8])"
            ]
          },
          "metadata": {},
          "execution_count": 8
        }
      ]
    },
    {
      "cell_type": "code",
      "source": [
        "# alternatywnie mamy też metody:\n",
        "np.add(A, B) # dodatnie tablic\n",
        "np.subtract(A, B) # odejmowanie tablic\n",
        "np.multiply(A, B) # mnożenie tablic\n",
        "np.divide(A, B)  # dzielenie tablic"
      ],
      "metadata": {
        "colab": {
          "base_uri": "https://localhost:8080/"
        },
        "id": "kdM7p1WvHkCD",
        "outputId": "dd06eec3-fe21-492e-8260-4fab701fa359"
      },
      "execution_count": 9,
      "outputs": [
        {
          "output_type": "execute_result",
          "data": {
            "text/plain": [
              "array([ 1.        , -1.        ,  1.33333333,  1.        ])"
            ]
          },
          "metadata": {},
          "execution_count": 9
        }
      ]
    },
    {
      "cell_type": "markdown",
      "source": [
        "Mnożenie macierzowe \n",
        "- np.dot(X, Y)\n",
        "- X.dot(Y)\n",
        "- X @ Y"
      ],
      "metadata": {
        "id": "qqqRUkt9IJui"
      }
    },
    {
      "cell_type": "code",
      "source": [
        "X = np.array([[1, 3], [-2, 0]])\n",
        "Y = np.array([[6, 0], [-1, 2]])"
      ],
      "metadata": {
        "id": "YEihttFxIAvc"
      },
      "execution_count": 10,
      "outputs": []
    },
    {
      "cell_type": "code",
      "source": [
        "np.dot(X, Y)"
      ],
      "metadata": {
        "colab": {
          "base_uri": "https://localhost:8080/"
        },
        "id": "I9jID9L4IW8M",
        "outputId": "e422bc8d-2d9f-4cb4-8420-298a50b1691d"
      },
      "execution_count": 11,
      "outputs": [
        {
          "output_type": "execute_result",
          "data": {
            "text/plain": [
              "array([[  3,   6],\n",
              "       [-12,   0]])"
            ]
          },
          "metadata": {},
          "execution_count": 11
        }
      ]
    },
    {
      "cell_type": "code",
      "source": [
        "# drugi sposób\n",
        "X.dot(Y)"
      ],
      "metadata": {
        "colab": {
          "base_uri": "https://localhost:8080/"
        },
        "id": "-KlRNalHIeQ3",
        "outputId": "cfd113e9-59c4-4749-ebac-5aae6d26bf54"
      },
      "execution_count": 12,
      "outputs": [
        {
          "output_type": "execute_result",
          "data": {
            "text/plain": [
              "array([[  3,   6],\n",
              "       [-12,   0]])"
            ]
          },
          "metadata": {},
          "execution_count": 12
        }
      ]
    },
    {
      "cell_type": "code",
      "source": [
        "# UWAGA - mnożenie macierzy nie jest przemienne!\n",
        "Y.dot(X)"
      ],
      "metadata": {
        "colab": {
          "base_uri": "https://localhost:8080/"
        },
        "id": "uTnAl-fFIpBo",
        "outputId": "d2c9d648-96c1-4b56-cd7a-be782f3957a8"
      },
      "execution_count": 14,
      "outputs": [
        {
          "output_type": "execute_result",
          "data": {
            "text/plain": [
              "array([[ 6, 18],\n",
              "       [-5, -3]])"
            ]
          },
          "metadata": {},
          "execution_count": 14
        }
      ]
    },
    {
      "cell_type": "code",
      "source": [
        "# trzeci sposób\n",
        "X @ Y"
      ],
      "metadata": {
        "colab": {
          "base_uri": "https://localhost:8080/"
        },
        "id": "-wSrLF-AIxZ9",
        "outputId": "17627a2f-7ea5-42be-b456-ba24ce821ea3"
      },
      "execution_count": 15,
      "outputs": [
        {
          "output_type": "execute_result",
          "data": {
            "text/plain": [
              "array([[  3,   6],\n",
              "       [-12,   0]])"
            ]
          },
          "metadata": {},
          "execution_count": 15
        }
      ]
    },
    {
      "cell_type": "markdown",
      "source": [
        "# 5. Generowanie liczb pseudolowych\n",
        "\n",
        "### Wbudowany moduł random:\n",
        "- np.random.randn() - rozkład N(0,1)\n",
        "- np.random.rand() - rozkład U[0, 1)\n",
        "- np.random.randint() - nieujemna całkowita z przedziału\n",
        "- np.random.choice([list]) - element z podanej listy\n",
        "- np.random.shuffle() - losowe przetasowanie\n"
      ],
      "metadata": {
        "id": "H8BwPLTvJxvd"
      }
    },
    {
      "cell_type": "code",
      "source": [
        "# ustawienie konkretnego ziarna losowego - zawsze ten sam wynik\n",
        "np.random.seed(0)"
      ],
      "metadata": {
        "id": "Fzxqj8dxJ4J8"
      },
      "execution_count": 16,
      "outputs": []
    },
    {
      "cell_type": "code",
      "source": [
        "# generowanie losowej liczby z rozkładu normalnego standardowego N(0,1)\n",
        "np.random.randn()"
      ],
      "metadata": {
        "colab": {
          "base_uri": "https://localhost:8080/"
        },
        "id": "nRgKBjdpKKMg",
        "outputId": "274b1fbc-d232-41c3-be63-405bd0a5cfbb"
      },
      "execution_count": 17,
      "outputs": [
        {
          "output_type": "execute_result",
          "data": {
            "text/plain": [
              "1.764052345967664"
            ]
          },
          "metadata": {},
          "execution_count": 17
        }
      ]
    },
    {
      "cell_type": "code",
      "source": [
        "# możemy podać ile chcemy tych liczb\n",
        "np.random.randn(10)"
      ],
      "metadata": {
        "colab": {
          "base_uri": "https://localhost:8080/"
        },
        "id": "xDUExVwzKUzI",
        "outputId": "5099c794-6ad0-405a-daaa-84a95b5e52dc"
      },
      "execution_count": 18,
      "outputs": [
        {
          "output_type": "execute_result",
          "data": {
            "text/plain": [
              "array([ 0.40015721,  0.97873798,  2.2408932 ,  1.86755799, -0.97727788,\n",
              "        0.95008842, -0.15135721, -0.10321885,  0.4105985 ,  0.14404357])"
            ]
          },
          "metadata": {},
          "execution_count": 18
        }
      ]
    },
    {
      "cell_type": "code",
      "source": [
        "np.random.randn(10, 4)  # liczba wierszy i kolumn"
      ],
      "metadata": {
        "colab": {
          "base_uri": "https://localhost:8080/"
        },
        "id": "M3-bxk8CKhOo",
        "outputId": "5865f5d1-68ff-4925-d38c-d18293b6566b"
      },
      "execution_count": 19,
      "outputs": [
        {
          "output_type": "execute_result",
          "data": {
            "text/plain": [
              "array([[ 1.45427351,  0.76103773,  0.12167502,  0.44386323],\n",
              "       [ 0.33367433,  1.49407907, -0.20515826,  0.3130677 ],\n",
              "       [-0.85409574, -2.55298982,  0.6536186 ,  0.8644362 ],\n",
              "       [-0.74216502,  2.26975462, -1.45436567,  0.04575852],\n",
              "       [-0.18718385,  1.53277921,  1.46935877,  0.15494743],\n",
              "       [ 0.37816252, -0.88778575, -1.98079647, -0.34791215],\n",
              "       [ 0.15634897,  1.23029068,  1.20237985, -0.38732682],\n",
              "       [-0.30230275, -1.04855297, -1.42001794, -1.70627019],\n",
              "       [ 1.9507754 , -0.50965218, -0.4380743 , -1.25279536],\n",
              "       [ 0.77749036, -1.61389785, -0.21274028, -0.89546656]])"
            ]
          },
          "metadata": {},
          "execution_count": 19
        }
      ]
    },
    {
      "cell_type": "code",
      "source": [
        "# generowanie liczby z rozkładu jednostajnego na przedziale Unit[0, 1)\n",
        "np.random.rand() "
      ],
      "metadata": {
        "colab": {
          "base_uri": "https://localhost:8080/"
        },
        "id": "aSp-PtBpKyWu",
        "outputId": "e1a04b0c-2adc-4e51-908f-aec63b672fd3"
      },
      "execution_count": 20,
      "outputs": [
        {
          "output_type": "execute_result",
          "data": {
            "text/plain": [
              "0.1965823616800535"
            ]
          },
          "metadata": {},
          "execution_count": 20
        }
      ]
    },
    {
      "cell_type": "code",
      "source": [
        "np.random.rand(10, 4)"
      ],
      "metadata": {
        "colab": {
          "base_uri": "https://localhost:8080/"
        },
        "id": "0VRNNsSXLHg0",
        "outputId": "328721fc-486f-495e-aa2a-4839661b9cbc"
      },
      "execution_count": 21,
      "outputs": [
        {
          "output_type": "execute_result",
          "data": {
            "text/plain": [
              "array([[0.36872517, 0.82099323, 0.09710128, 0.83794491],\n",
              "       [0.09609841, 0.97645947, 0.4686512 , 0.97676109],\n",
              "       [0.60484552, 0.73926358, 0.03918779, 0.28280696],\n",
              "       [0.12019656, 0.2961402 , 0.11872772, 0.31798318],\n",
              "       [0.41426299, 0.0641475 , 0.69247212, 0.56660145],\n",
              "       [0.26538949, 0.52324805, 0.09394051, 0.5759465 ],\n",
              "       [0.9292962 , 0.31856895, 0.66741038, 0.13179786],\n",
              "       [0.7163272 , 0.28940609, 0.18319136, 0.58651293],\n",
              "       [0.02010755, 0.82894003, 0.00469548, 0.67781654],\n",
              "       [0.27000797, 0.73519402, 0.96218855, 0.24875314]])"
            ]
          },
          "metadata": {},
          "execution_count": 21
        }
      ]
    },
    {
      "cell_type": "code",
      "source": [
        "# generowanie losowej liczby całkowitej nieujemnej\n",
        "np.random.randint(10)  # liczba z przedziału [0,10)"
      ],
      "metadata": {
        "colab": {
          "base_uri": "https://localhost:8080/"
        },
        "id": "hIVXtyEdLWQ5",
        "outputId": "98c065ec-d6ff-4c4e-f501-b8672ec24563"
      },
      "execution_count": 24,
      "outputs": [
        {
          "output_type": "execute_result",
          "data": {
            "text/plain": [
              "3"
            ]
          },
          "metadata": {},
          "execution_count": 24
        }
      ]
    },
    {
      "cell_type": "code",
      "source": [
        "# możemy też wybrać przedział i liczbę liczb\n",
        "np.random.randint(low=11, high=101, size=5)"
      ],
      "metadata": {
        "colab": {
          "base_uri": "https://localhost:8080/"
        },
        "id": "hP3xcAhmLlTs",
        "outputId": "a429252a-50ec-4b46-d266-568525968c37"
      },
      "execution_count": 26,
      "outputs": [
        {
          "output_type": "execute_result",
          "data": {
            "text/plain": [
              "array([37, 77, 63, 78, 72])"
            ]
          },
          "metadata": {},
          "execution_count": 26
        }
      ]
    },
    {
      "cell_type": "code",
      "source": [
        "# losowy wybór elementu z podanej listy\n",
        "np.random.choice([1,5,8,9])"
      ],
      "metadata": {
        "colab": {
          "base_uri": "https://localhost:8080/"
        },
        "id": "jn3Beb8jL2NH",
        "outputId": "a0979781-3f42-4958-822b-eee3b3d6aca7"
      },
      "execution_count": 27,
      "outputs": [
        {
          "output_type": "execute_result",
          "data": {
            "text/plain": [
              "8"
            ]
          },
          "metadata": {},
          "execution_count": 27
        }
      ]
    },
    {
      "cell_type": "code",
      "source": [
        "# mogą to być też inne typy zmiennych\n",
        "np.random.choice(['java', 'python', 'sql'])"
      ],
      "metadata": {
        "colab": {
          "base_uri": "https://localhost:8080/",
          "height": 36
        },
        "id": "fjKUrrf4MGHF",
        "outputId": "70b30dfd-58b3-4249-f117-c209d4875012"
      },
      "execution_count": 28,
      "outputs": [
        {
          "output_type": "execute_result",
          "data": {
            "text/plain": [
              "'java'"
            ],
            "application/vnd.google.colaboratory.intrinsic+json": {
              "type": "string"
            }
          },
          "metadata": {},
          "execution_count": 28
        }
      ]
    },
    {
      "cell_type": "code",
      "source": [
        "# losowe przetasowanie tablicy\n",
        "data = np.arange(10)\n",
        "np.random.shuffle(data) # modyfikuje dane wyjściowe!\n",
        "data"
      ],
      "metadata": {
        "colab": {
          "base_uri": "https://localhost:8080/"
        },
        "id": "v0Y5KNR0MUNl",
        "outputId": "69bde82b-716a-48c7-dc4b-57a4d1be8f15"
      },
      "execution_count": 30,
      "outputs": [
        {
          "output_type": "execute_result",
          "data": {
            "text/plain": [
              "array([9, 3, 2, 7, 4, 0, 1, 6, 5, 8])"
            ]
          },
          "metadata": {},
          "execution_count": 30
        }
      ]
    },
    {
      "cell_type": "code",
      "source": [
        ""
      ],
      "metadata": {
        "id": "ahMlmD3IMi7f"
      },
      "execution_count": null,
      "outputs": []
    },
    {
      "cell_type": "markdown",
      "source": [
        "# 6. Podstawowe funkcje\n",
        "\n",
        "- np.exp()\n",
        "- np.sqrt()\n",
        "- np.all()\n",
        "- np.any()\n",
        "- np.argmax()\n",
        "- np.argmin()\n",
        "- np.argsort()\n",
        "- np.max()\n",
        "- np.min()\n",
        "- np.sum()\n",
        "- np.mean()\n",
        "- np.median()\n",
        "- np.std() "
      ],
      "metadata": {
        "id": "xX-aFf1YNYiI"
      }
    },
    {
      "cell_type": "code",
      "source": [
        "np.exp(1) # pow(e,1)"
      ],
      "metadata": {
        "colab": {
          "base_uri": "https://localhost:8080/"
        },
        "id": "cgEKUJc2NdkW",
        "outputId": "97f94453-ea75-44f5-be19-0f52cf3b296e"
      },
      "execution_count": 38,
      "outputs": [
        {
          "output_type": "execute_result",
          "data": {
            "text/plain": [
              "2.718281828459045"
            ]
          },
          "metadata": {},
          "execution_count": 38
        }
      ]
    },
    {
      "cell_type": "code",
      "source": [
        "np.sqrt(4) # pierwiastek kwadratowy"
      ],
      "metadata": {
        "colab": {
          "base_uri": "https://localhost:8080/"
        },
        "id": "lsWHWs05Nk7V",
        "outputId": "18571923-c998-4099-ef93-f9be1cabf53c"
      },
      "execution_count": 40,
      "outputs": [
        {
          "output_type": "execute_result",
          "data": {
            "text/plain": [
              "2.0"
            ]
          },
          "metadata": {},
          "execution_count": 40
        }
      ]
    },
    {
      "cell_type": "code",
      "source": [
        "np.all([-1, 9]) # czy wszystkie liczby zwracają True -> 0 zwraca False"
      ],
      "metadata": {
        "colab": {
          "base_uri": "https://localhost:8080/"
        },
        "id": "0BP2cAo-N5M4",
        "outputId": "18483737-2a6e-459c-f3c0-bf93aafc7c52"
      },
      "execution_count": 41,
      "outputs": [
        {
          "output_type": "execute_result",
          "data": {
            "text/plain": [
              "True"
            ]
          },
          "metadata": {},
          "execution_count": 41
        }
      ]
    },
    {
      "cell_type": "code",
      "source": [
        "np.any([0, 3]) # czy istnieje jakaś liczba zwracająca True, przydatne do sprawdzania w danych czy są jakieś niezerowe wartości"
      ],
      "metadata": {
        "colab": {
          "base_uri": "https://localhost:8080/"
        },
        "id": "OlD_AXerOO_Z",
        "outputId": "3695a986-f1c7-47e9-882f-2934c3fca62c"
      },
      "execution_count": 43,
      "outputs": [
        {
          "output_type": "execute_result",
          "data": {
            "text/plain": [
              "True"
            ]
          },
          "metadata": {},
          "execution_count": 43
        }
      ]
    },
    {
      "cell_type": "code",
      "source": [
        "bool(0) # zwraca wartość logiczną liczby - False zwraca tylko 0"
      ],
      "metadata": {
        "colab": {
          "base_uri": "https://localhost:8080/"
        },
        "id": "jqRZC6n-OZG0",
        "outputId": "8affc932-0f5d-4943-a672-71d645fb4406"
      },
      "execution_count": 46,
      "outputs": [
        {
          "output_type": "execute_result",
          "data": {
            "text/plain": [
              "False"
            ]
          },
          "metadata": {},
          "execution_count": 46
        }
      ]
    },
    {
      "cell_type": "code",
      "source": [
        "# zwracanie indeksu gdzie wartość w tablicy jest:\n",
        "A = np.random.rand(5)\n",
        "A"
      ],
      "metadata": {
        "colab": {
          "base_uri": "https://localhost:8080/"
        },
        "id": "1x2lR7mNOtC-",
        "outputId": "5f36aff5-699c-4e1a-d6fa-94bf22f30be1"
      },
      "execution_count": 47,
      "outputs": [
        {
          "output_type": "execute_result",
          "data": {
            "text/plain": [
              "array([0.95608363, 0.6439902 , 0.42385505, 0.60639321, 0.0191932 ])"
            ]
          },
          "metadata": {},
          "execution_count": 47
        }
      ]
    },
    {
      "cell_type": "code",
      "source": [
        "np.argmax(A) # największa\n",
        "np.argmin(A) # najmniejsza"
      ],
      "metadata": {
        "colab": {
          "base_uri": "https://localhost:8080/"
        },
        "id": "ZKrUKtJiPHPG",
        "outputId": "05a2c400-f899-4c34-fdfb-bd5f42c27060"
      },
      "execution_count": 50,
      "outputs": [
        {
          "output_type": "execute_result",
          "data": {
            "text/plain": [
              "4"
            ]
          },
          "metadata": {},
          "execution_count": 50
        }
      ]
    },
    {
      "cell_type": "code",
      "source": [
        "# sortowanie wartości podając index: od najmniejszej do największej\n",
        "np.argsort(A)"
      ],
      "metadata": {
        "colab": {
          "base_uri": "https://localhost:8080/"
        },
        "id": "0a8_oVo1PM5Q",
        "outputId": "fc55cded-f49b-4e11-c302-d16aaf4496d5"
      },
      "execution_count": 52,
      "outputs": [
        {
          "output_type": "execute_result",
          "data": {
            "text/plain": [
              "array([4, 2, 3, 1, 0])"
            ]
          },
          "metadata": {},
          "execution_count": 52
        }
      ]
    },
    {
      "cell_type": "code",
      "source": [
        "# wartości statystyczne:\n",
        "np.max(A)\n",
        "np.min(A)\n",
        "np.mean(A)\n",
        "np.median(A)\n",
        "np.std(A) # odchylenie standardowe\n",
        "np.sum(A)"
      ],
      "metadata": {
        "colab": {
          "base_uri": "https://localhost:8080/"
        },
        "id": "2klfjKfNPgEV",
        "outputId": "e51e7083-612b-43b3-8f5f-5edd99ea3f72"
      },
      "execution_count": 58,
      "outputs": [
        {
          "output_type": "execute_result",
          "data": {
            "text/plain": [
              "2.6495152949482987"
            ]
          },
          "metadata": {},
          "execution_count": 58
        }
      ]
    },
    {
      "cell_type": "markdown",
      "source": [
        "# 7. Indeksowanie i wycinanie\n",
        "\n",
        "- wycinanie - jak w listach w pythonie, w przypadku wielowymiarowych A[,]\n",
        "- modyfikowanie tablicy też jest mozliwe w ten sposób A[1,3] = 10"
      ],
      "metadata": {
        "id": "BoS7bXgbQgJd"
      }
    },
    {
      "cell_type": "code",
      "source": [
        "A = np.arange(10)\n",
        "A"
      ],
      "metadata": {
        "colab": {
          "base_uri": "https://localhost:8080/"
        },
        "id": "-0HxrQ6ZQkK6",
        "outputId": "1937059b-5cef-4ead-9368-488097c7e9de"
      },
      "execution_count": 60,
      "outputs": [
        {
          "output_type": "execute_result",
          "data": {
            "text/plain": [
              "array([0, 1, 2, 3, 4, 5, 6, 7, 8, 9])"
            ]
          },
          "metadata": {},
          "execution_count": 60
        }
      ]
    },
    {
      "cell_type": "code",
      "source": [
        "# wycinanie: - jak listy w pythonie\n",
        "A[1:6]"
      ],
      "metadata": {
        "colab": {
          "base_uri": "https://localhost:8080/"
        },
        "id": "x1D75DUKQsBs",
        "outputId": "d97803f2-8c5e-4059-c6a3-757e8af84b8b"
      },
      "execution_count": 61,
      "outputs": [
        {
          "output_type": "execute_result",
          "data": {
            "text/plain": [
              "array([1, 2, 3, 4, 5])"
            ]
          },
          "metadata": {},
          "execution_count": 61
        }
      ]
    },
    {
      "cell_type": "code",
      "source": [
        "A[:2]"
      ],
      "metadata": {
        "colab": {
          "base_uri": "https://localhost:8080/"
        },
        "id": "r_Fx-wP1QwNo",
        "outputId": "6e1e3664-82c9-4812-8c85-8917f042d1da"
      },
      "execution_count": 62,
      "outputs": [
        {
          "output_type": "execute_result",
          "data": {
            "text/plain": [
              "array([0, 1])"
            ]
          },
          "metadata": {},
          "execution_count": 62
        }
      ]
    },
    {
      "cell_type": "code",
      "source": [
        "A[[0,2]]"
      ],
      "metadata": {
        "colab": {
          "base_uri": "https://localhost:8080/"
        },
        "id": "Waat5kNnQ3cD",
        "outputId": "803584bd-89c6-4e21-8b16-29a56963c702"
      },
      "execution_count": 63,
      "outputs": [
        {
          "output_type": "execute_result",
          "data": {
            "text/plain": [
              "array([0, 2])"
            ]
          },
          "metadata": {},
          "execution_count": 63
        }
      ]
    },
    {
      "cell_type": "code",
      "source": [
        "A[-2:]"
      ],
      "metadata": {
        "colab": {
          "base_uri": "https://localhost:8080/"
        },
        "id": "8LKSYQNUQ6oj",
        "outputId": "85175281-0b1b-41f8-d2b8-21adb1303923"
      },
      "execution_count": 68,
      "outputs": [
        {
          "output_type": "execute_result",
          "data": {
            "text/plain": [
              "array([8, 9])"
            ]
          },
          "metadata": {},
          "execution_count": 68
        }
      ]
    },
    {
      "cell_type": "code",
      "source": [
        "# Tablice o wyższych wymiarach\n",
        "A = A.reshape(2, 5)\n",
        "A"
      ],
      "metadata": {
        "colab": {
          "base_uri": "https://localhost:8080/"
        },
        "id": "Aiy-NiqURAEc",
        "outputId": "7fd0e202-bc5a-4538-e5ee-eee926dcbff6"
      },
      "execution_count": 70,
      "outputs": [
        {
          "output_type": "execute_result",
          "data": {
            "text/plain": [
              "array([[0, 1, 2, 3, 4],\n",
              "       [5, 6, 7, 8, 9]])"
            ]
          },
          "metadata": {},
          "execution_count": 70
        }
      ]
    },
    {
      "cell_type": "code",
      "source": [
        "A[0] # wiersz"
      ],
      "metadata": {
        "colab": {
          "base_uri": "https://localhost:8080/"
        },
        "id": "iHCN-dhcRbfz",
        "outputId": "5632085e-a176-4e30-d37a-5df4ccb0855c"
      },
      "execution_count": 71,
      "outputs": [
        {
          "output_type": "execute_result",
          "data": {
            "text/plain": [
              "array([0, 1, 2, 3, 4])"
            ]
          },
          "metadata": {},
          "execution_count": 71
        }
      ]
    },
    {
      "cell_type": "code",
      "source": [
        "A[:,4] # kolumna"
      ],
      "metadata": {
        "colab": {
          "base_uri": "https://localhost:8080/"
        },
        "id": "p9xPR34_Rilo",
        "outputId": "e280e302-0f09-474a-faaa-33dcc4dbc2b9"
      },
      "execution_count": 73,
      "outputs": [
        {
          "output_type": "execute_result",
          "data": {
            "text/plain": [
              "array([4, 9])"
            ]
          },
          "metadata": {},
          "execution_count": 73
        }
      ]
    },
    {
      "cell_type": "code",
      "source": [
        "A[1,4] # konkretny element"
      ],
      "metadata": {
        "colab": {
          "base_uri": "https://localhost:8080/"
        },
        "id": "6iyXm3XrRoIQ",
        "outputId": "21e311b7-caf9-458b-e73e-f3fe2c0c611d"
      },
      "execution_count": 75,
      "outputs": [
        {
          "output_type": "execute_result",
          "data": {
            "text/plain": [
              "9"
            ]
          },
          "metadata": {},
          "execution_count": 75
        }
      ]
    },
    {
      "cell_type": "code",
      "source": [
        "A[0:, 2:4] # fragment"
      ],
      "metadata": {
        "colab": {
          "base_uri": "https://localhost:8080/"
        },
        "id": "wpi1mr3-RzWs",
        "outputId": "71d707d7-77b1-448b-a94c-eab22a03aca1"
      },
      "execution_count": 79,
      "outputs": [
        {
          "output_type": "execute_result",
          "data": {
            "text/plain": [
              "array([[2, 3],\n",
              "       [7, 8]])"
            ]
          },
          "metadata": {},
          "execution_count": 79
        }
      ]
    },
    {
      "cell_type": "code",
      "source": [
        "# możemy też modyfikować tablicę w ten sposób\n",
        "A[1,1] = 10\n",
        "A"
      ],
      "metadata": {
        "colab": {
          "base_uri": "https://localhost:8080/"
        },
        "id": "IaOoKSnxSIZO",
        "outputId": "08a7ca41-dec7-42b9-c8cc-f3dd66fc9c49"
      },
      "execution_count": 80,
      "outputs": [
        {
          "output_type": "execute_result",
          "data": {
            "text/plain": [
              "array([[ 0,  1,  2,  3,  4],\n",
              "       [ 5, 10,  7,  8,  9]])"
            ]
          },
          "metadata": {},
          "execution_count": 80
        }
      ]
    },
    {
      "cell_type": "code",
      "source": [
        ""
      ],
      "metadata": {
        "id": "GSqwbuFNSmfl"
      },
      "execution_count": null,
      "outputs": []
    },
    {
      "cell_type": "markdown",
      "source": [
        "\n",
        "\n",
        "# 8. Iterowanie po tablicach\n",
        "\n",
        "- pętla for (po wierszach lub po \"wypłaszczonej tablicy\" A.flat)\n",
        "- enumerate(A) - kontrola liczby iteracji"
      ],
      "metadata": {
        "id": "a4PooC1AS9K6"
      }
    },
    {
      "cell_type": "code",
      "source": [
        "# pętla for:\n",
        "for row in A:\n",
        "  print(row[:3])"
      ],
      "metadata": {
        "colab": {
          "base_uri": "https://localhost:8080/"
        },
        "id": "myyDRiB6TFIy",
        "outputId": "5b86050a-bc5d-4f96-a777-0ea18ea39189"
      },
      "execution_count": 82,
      "outputs": [
        {
          "output_type": "stream",
          "name": "stdout",
          "text": [
            "[0 1 2]\n",
            "[ 5 10  7]\n"
          ]
        }
      ]
    },
    {
      "cell_type": "code",
      "source": [
        "# wypłaszczenie tablicy - iterowanie po każdym elemencie:\n",
        "for item in A.flat:\n",
        "  print(item)"
      ],
      "metadata": {
        "colab": {
          "base_uri": "https://localhost:8080/"
        },
        "id": "YhY0GCEcTgwk",
        "outputId": "9adef477-d19a-4c75-be95-e804fe091b42"
      },
      "execution_count": 84,
      "outputs": [
        {
          "output_type": "stream",
          "name": "stdout",
          "text": [
            "0\n",
            "1\n",
            "2\n",
            "3\n",
            "4\n",
            "5\n",
            "10\n",
            "7\n",
            "8\n",
            "9\n"
          ]
        }
      ]
    },
    {
      "cell_type": "code",
      "source": [
        "# kontrolowanie liczby iteracji\n",
        "for iteracja, item in enumerate(A):\n",
        "  print('Iteracja nr:', iteracja, '| Wartość:', item)"
      ],
      "metadata": {
        "colab": {
          "base_uri": "https://localhost:8080/"
        },
        "id": "CJbkjNBHTxUx",
        "outputId": "3744a12a-fb51-4590-befa-b9f0d8a2c026"
      },
      "execution_count": 87,
      "outputs": [
        {
          "output_type": "stream",
          "name": "stdout",
          "text": [
            "Iteracja nr: 0 | Wartość: [0 1 2 3 4]\n",
            "Iteracja nr: 1 | Wartość: [ 5 10  7  8  9]\n"
          ]
        }
      ]
    },
    {
      "cell_type": "markdown",
      "source": [
        "# 9. Zmiana rozmiaru tablicy\n",
        "\n",
        "- A.reshape()\n",
        "- A.ravel() - wypłaszczenie\n",
        "- A.T - transpozycja"
      ],
      "metadata": {
        "id": "9GfSP-bDTF84"
      }
    },
    {
      "cell_type": "code",
      "source": [
        "A"
      ],
      "metadata": {
        "colab": {
          "base_uri": "https://localhost:8080/"
        },
        "id": "IAQpFlMoVKRp",
        "outputId": "2282abd7-3e58-4823-f55d-c490b7b003ef"
      },
      "execution_count": 95,
      "outputs": [
        {
          "output_type": "execute_result",
          "data": {
            "text/plain": [
              "array([[ 0,  1,  2,  3,  4],\n",
              "       [ 5, 10,  7,  8,  9]])"
            ]
          },
          "metadata": {},
          "execution_count": 95
        }
      ]
    },
    {
      "cell_type": "code",
      "source": [
        "A.shape # sprawdzanie kształtu"
      ],
      "metadata": {
        "colab": {
          "base_uri": "https://localhost:8080/"
        },
        "id": "L5R_b9BDTJ4V",
        "outputId": "5ca56896-52c6-4da4-cc2f-09087d366da2"
      },
      "execution_count": 88,
      "outputs": [
        {
          "output_type": "execute_result",
          "data": {
            "text/plain": [
              "(2, 5)"
            ]
          },
          "metadata": {},
          "execution_count": 88
        }
      ]
    },
    {
      "cell_type": "code",
      "source": [
        "A.reshape(5, 2) # zmiana kształtu"
      ],
      "metadata": {
        "colab": {
          "base_uri": "https://localhost:8080/"
        },
        "id": "hi5ArdGaUvGN",
        "outputId": "0cbf8d6e-52e9-46c0-d12c-dc9033a9839b"
      },
      "execution_count": 89,
      "outputs": [
        {
          "output_type": "execute_result",
          "data": {
            "text/plain": [
              "array([[ 0,  1],\n",
              "       [ 2,  3],\n",
              "       [ 4,  5],\n",
              "       [10,  7],\n",
              "       [ 8,  9]])"
            ]
          },
          "metadata": {},
          "execution_count": 89
        }
      ]
    },
    {
      "cell_type": "code",
      "source": [
        "A.ravel() # wypłaszczenie danych"
      ],
      "metadata": {
        "colab": {
          "base_uri": "https://localhost:8080/"
        },
        "id": "QqTgucboU3u0",
        "outputId": "399201fe-3d25-42f0-f3a9-74170d46a52f"
      },
      "execution_count": 91,
      "outputs": [
        {
          "output_type": "execute_result",
          "data": {
            "text/plain": [
              "array([ 0,  1,  2,  3,  4,  5, 10,  7,  8,  9])"
            ]
          },
          "metadata": {},
          "execution_count": 91
        }
      ]
    },
    {
      "cell_type": "code",
      "source": [
        "A.T # transponowanie"
      ],
      "metadata": {
        "colab": {
          "base_uri": "https://localhost:8080/"
        },
        "id": "oKFD0Ly2U9Pa",
        "outputId": "a2b70427-4fdc-4d33-b9b9-b66847bbec37"
      },
      "execution_count": 94,
      "outputs": [
        {
          "output_type": "execute_result",
          "data": {
            "text/plain": [
              "array([[ 0,  5],\n",
              "       [ 1, 10],\n",
              "       [ 2,  7],\n",
              "       [ 3,  8],\n",
              "       [ 4,  9]])"
            ]
          },
          "metadata": {},
          "execution_count": 94
        }
      ]
    },
    {
      "cell_type": "markdown",
      "source": [
        "# 10. Maski logiczne\n",
        "\n",
        "- jeden warunek <, > itd\n",
        "- więcej warunków: np.bitwise_and(), np.bitwise_or()"
      ],
      "metadata": {
        "id": "1TxO8G-tTKkB"
      }
    },
    {
      "cell_type": "code",
      "source": [
        "A = np.arange(-10, stop=10, step=0.5)\n",
        "A = A.reshape(10, -1)\n",
        "A"
      ],
      "metadata": {
        "colab": {
          "base_uri": "https://localhost:8080/"
        },
        "id": "CeYcj5WBTMlp",
        "outputId": "2ee35f98-a706-4099-b4ff-e087cd02e589"
      },
      "execution_count": 97,
      "outputs": [
        {
          "output_type": "execute_result",
          "data": {
            "text/plain": [
              "array([[-10. ,  -9.5,  -9. ,  -8.5],\n",
              "       [ -8. ,  -7.5,  -7. ,  -6.5],\n",
              "       [ -6. ,  -5.5,  -5. ,  -4.5],\n",
              "       [ -4. ,  -3.5,  -3. ,  -2.5],\n",
              "       [ -2. ,  -1.5,  -1. ,  -0.5],\n",
              "       [  0. ,   0.5,   1. ,   1.5],\n",
              "       [  2. ,   2.5,   3. ,   3.5],\n",
              "       [  4. ,   4.5,   5. ,   5.5],\n",
              "       [  6. ,   6.5,   7. ,   7.5],\n",
              "       [  8. ,   8.5,   9. ,   9.5]])"
            ]
          },
          "metadata": {},
          "execution_count": 97
        }
      ]
    },
    {
      "cell_type": "code",
      "source": [
        "# chcemy się dowiedzieć gdzie są wartości ujemne:\n",
        "A<0"
      ],
      "metadata": {
        "colab": {
          "base_uri": "https://localhost:8080/"
        },
        "id": "2N0QimE0VnuA",
        "outputId": "11fe08db-0b3c-4e7f-8cd3-2a1b8f469997"
      },
      "execution_count": 99,
      "outputs": [
        {
          "output_type": "execute_result",
          "data": {
            "text/plain": [
              "array([[ True,  True,  True,  True],\n",
              "       [ True,  True,  True,  True],\n",
              "       [ True,  True,  True,  True],\n",
              "       [ True,  True,  True,  True],\n",
              "       [ True,  True,  True,  True],\n",
              "       [False, False, False, False],\n",
              "       [False, False, False, False],\n",
              "       [False, False, False, False],\n",
              "       [False, False, False, False],\n",
              "       [False, False, False, False]])"
            ]
          },
          "metadata": {},
          "execution_count": 99
        }
      ]
    },
    {
      "cell_type": "code",
      "source": [
        "A[A<0]"
      ],
      "metadata": {
        "colab": {
          "base_uri": "https://localhost:8080/"
        },
        "id": "KYaWX8cGVx-w",
        "outputId": "c4c5ed9e-55bc-4d3d-e891-85c84f50179a"
      },
      "execution_count": 100,
      "outputs": [
        {
          "output_type": "execute_result",
          "data": {
            "text/plain": [
              "array([-10. ,  -9.5,  -9. ,  -8.5,  -8. ,  -7.5,  -7. ,  -6.5,  -6. ,\n",
              "        -5.5,  -5. ,  -4.5,  -4. ,  -3.5,  -3. ,  -2.5,  -2. ,  -1.5,\n",
              "        -1. ,  -0.5])"
            ]
          },
          "metadata": {},
          "execution_count": 100
        }
      ]
    },
    {
      "cell_type": "code",
      "source": [
        "# więcej warunków\n",
        "A[np.bitwise_and(A>-5, A<5)]"
      ],
      "metadata": {
        "colab": {
          "base_uri": "https://localhost:8080/"
        },
        "id": "9aKE-4NqV3WP",
        "outputId": "1f9dee06-61bb-4ded-fb8c-baba8795f56b"
      },
      "execution_count": 104,
      "outputs": [
        {
          "output_type": "execute_result",
          "data": {
            "text/plain": [
              "array([-4.5, -4. , -3.5, -3. , -2.5, -2. , -1.5, -1. , -0.5,  0. ,  0.5,\n",
              "        1. ,  1.5,  2. ,  2.5,  3. ,  3.5,  4. ,  4.5])"
            ]
          },
          "metadata": {},
          "execution_count": 104
        }
      ]
    },
    {
      "cell_type": "code",
      "source": [
        "A[np.bitwise_or(A>5, A<-5)]"
      ],
      "metadata": {
        "colab": {
          "base_uri": "https://localhost:8080/"
        },
        "id": "B7LTjloSV87B",
        "outputId": "8f374e38-e853-4e0e-8538-dd192eae8e52"
      },
      "execution_count": 105,
      "outputs": [
        {
          "output_type": "execute_result",
          "data": {
            "text/plain": [
              "array([-10. ,  -9.5,  -9. ,  -8.5,  -8. ,  -7.5,  -7. ,  -6.5,  -6. ,\n",
              "        -5.5,   5.5,   6. ,   6.5,   7. ,   7.5,   8. ,   8.5,   9. ,\n",
              "         9.5])"
            ]
          },
          "metadata": {},
          "execution_count": 105
        }
      ]
    },
    {
      "cell_type": "code",
      "source": [
        ""
      ],
      "metadata": {
        "id": "GGvP3MtEWVk4"
      },
      "execution_count": null,
      "outputs": []
    }
  ]
}
