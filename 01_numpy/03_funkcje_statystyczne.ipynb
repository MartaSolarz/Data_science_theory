{
  "nbformat": 4,
  "nbformat_minor": 0,
  "metadata": {
    "colab": {
      "name": "03_funkcje_statystyczne.ipynb",
      "private_outputs": true,
      "provenance": [],
      "toc_visible": true,
      "authorship_tag": "ABX9TyNoNNXyonwmuwa5AH0AjJAK",
      "include_colab_link": true
    },
    "kernelspec": {
      "name": "python3",
      "display_name": "Python 3"
    },
    "language_info": {
      "name": "python"
    }
  },
  "cells": [
    {
      "cell_type": "markdown",
      "metadata": {
        "id": "view-in-github",
        "colab_type": "text"
      },
      "source": [
        "<a href=\"https://colab.research.google.com/github/MartaSolarz/Data_science_theory/blob/main/01_numpy/03_funkcje_statystyczne.ipynb\" target=\"_parent\"><img src=\"https://colab.research.google.com/assets/colab-badge.svg\" alt=\"Open In Colab\"/></a>"
      ]
    },
    {
      "cell_type": "code",
      "execution_count": null,
      "metadata": {
        "id": "JzNr_ckfnPlY"
      },
      "outputs": [],
      "source": [
        "import numpy as np"
      ]
    },
    {
      "cell_type": "code",
      "source": [
        "np.set_printoptions(precision=4, suppress=True) # dokładność i tłumienie notacji matematycznej"
      ],
      "metadata": {
        "id": "1nMdaV8OpNjh"
      },
      "execution_count": null,
      "outputs": []
    },
    {
      "cell_type": "code",
      "source": [
        "price = np.array([[12.40, 12.80, 11.90, 12.60, 1000],\n",
        "                  [12.50, 13.00, 11.70, 12.20, 2000],\n",
        "                  [12.20, 13.40, 12.20, 13.20, 1500]])\n",
        "print(price)"
      ],
      "metadata": {
        "id": "LzjeQEcEnXM0"
      },
      "execution_count": null,
      "outputs": []
    },
    {
      "cell_type": "markdown",
      "source": [
        "# Suma"
      ],
      "metadata": {
        "id": "arX08e3Yng_K"
      }
    },
    {
      "cell_type": "code",
      "source": [
        "price.sum() # wszystkie wartości sumujemy"
      ],
      "metadata": {
        "id": "-pnYUrkLnfWm"
      },
      "execution_count": null,
      "outputs": []
    },
    {
      "cell_type": "code",
      "source": [
        "price.sum(axis=0) # sumy w kolumnach"
      ],
      "metadata": {
        "id": "_i37xN7UnrrJ"
      },
      "execution_count": null,
      "outputs": []
    },
    {
      "cell_type": "code",
      "source": [
        "price.sum(axis=1) # sumy w wierszach"
      ],
      "metadata": {
        "id": "YINl2VEPn2HK"
      },
      "execution_count": null,
      "outputs": []
    },
    {
      "cell_type": "code",
      "source": [
        "# alternatywnie\n",
        "np.sum(price)"
      ],
      "metadata": {
        "id": "ODvIeNANn7yP"
      },
      "execution_count": null,
      "outputs": []
    },
    {
      "cell_type": "markdown",
      "source": [
        "# Min"
      ],
      "metadata": {
        "id": "PRwcLWIFoKAq"
      }
    },
    {
      "cell_type": "code",
      "source": [
        "np.min(price)"
      ],
      "metadata": {
        "id": "j-ztLMrNoGdJ"
      },
      "execution_count": null,
      "outputs": []
    },
    {
      "cell_type": "code",
      "source": [
        "np.min(price, axis=0)"
      ],
      "metadata": {
        "id": "iLjPddlMoM9z"
      },
      "execution_count": null,
      "outputs": []
    },
    {
      "cell_type": "markdown",
      "source": [
        "# Max"
      ],
      "metadata": {
        "id": "mYBES6DhoSEQ"
      }
    },
    {
      "cell_type": "code",
      "source": [
        "np.max(price)"
      ],
      "metadata": {
        "id": "yH6bfZBuoQRx"
      },
      "execution_count": null,
      "outputs": []
    },
    {
      "cell_type": "code",
      "source": [
        "np.max(price, axis=0)"
      ],
      "metadata": {
        "id": "h5wl0VcnoUYJ"
      },
      "execution_count": null,
      "outputs": []
    },
    {
      "cell_type": "markdown",
      "source": [
        "# Mediana"
      ],
      "metadata": {
        "id": "NZQ2oVQ2ocZy"
      }
    },
    {
      "cell_type": "code",
      "source": [
        "np.median(price, axis=0)"
      ],
      "metadata": {
        "id": "SacDREDsoyHd"
      },
      "execution_count": null,
      "outputs": []
    },
    {
      "cell_type": "markdown",
      "source": [
        "# Średnia"
      ],
      "metadata": {
        "id": "NuiXdOc6oodx"
      }
    },
    {
      "cell_type": "code",
      "source": [
        "np.mean(price, axis=0)"
      ],
      "metadata": {
        "id": "jj2SM60NoWzt"
      },
      "execution_count": null,
      "outputs": []
    },
    {
      "cell_type": "markdown",
      "source": [
        "# Wariancja"
      ],
      "metadata": {
        "id": "h_LnBF3yosVT"
      }
    },
    {
      "cell_type": "code",
      "source": [
        "np.var(price, axis=0)"
      ],
      "metadata": {
        "id": "aaQ8nVtJouOb"
      },
      "execution_count": null,
      "outputs": []
    },
    {
      "cell_type": "markdown",
      "source": [
        "# Odchylenie standardowe"
      ],
      "metadata": {
        "id": "GNWy6lkkovFY"
      }
    },
    {
      "cell_type": "code",
      "source": [
        "np.std(price, axis=0)"
      ],
      "metadata": {
        "id": "5R2WZkq9oww0"
      },
      "execution_count": null,
      "outputs": []
    }
  ]
}